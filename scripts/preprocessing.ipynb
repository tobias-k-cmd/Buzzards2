{
 "cells": [
  {
   "cell_type": "markdown",
   "metadata": {},
   "source": [
    "# Setup"
   ]
  },
  {
   "cell_type": "markdown",
   "metadata": {},
   "source": [
    "## Imports"
   ]
  },
  {
   "cell_type": "code",
   "execution_count": 1,
   "metadata": {},
   "outputs": [],
   "source": [
    "# Local\n",
    "from fncs import *\n",
    "from fncs_cluster_pos import *\n",
    "from get_ecotones import get_ecotones\n",
    "\n",
    "# General\n",
    "import os\n",
    "from tqdm.notebook import tqdm as log_progress\n",
    "from datetime import datetime, timedelta\n",
    "from configparser import ConfigParser\n",
    "\n",
    "# Data analysis\n",
    "import pandas as pd\n",
    "import numpy as np\n",
    "\n",
    "# # Data visualization\n",
    "# import matplotlib.pyplot as plt\n",
    "# import plotly.express as px\n",
    "# import plotly.graph_objects as go\n",
    "# from  plotly.subplots import make_subplots\n",
    "# import matplotlib as mpl\n",
    "\n",
    "# # Machine learning\n",
    "# from sklearn.cluster import HDBSCAN, DBSCAN\n",
    "# from st_dbscan import ST_DBSCAN\n",
    "# from sklearn.model_selection import ParameterGrid\n",
    "# from wdbscan import *\n",
    "# from scipy.spatial.distance import pdist, squareform\n",
    "# from sklearn.neighbors import KernelDensity\n",
    "\n",
    "# Geospatial data\n",
    "import geopandas as gpd\n",
    "# from shapely.geometry import Point, LineString, LinearRing, MultiPoint, Polygon,MultiPolygon\n",
    "# from scipy.spatial import distance_matrix\n",
    "# from shapely import line_interpolate_point\n",
    "import rasterio\n",
    "# from rasterstats import zonal_stats\n",
    "# from skimage import measure\n",
    "# from shapelysmooth import  taubin_smooth\n",
    "# from shapely import make_valid, distance\n",
    "\n",
    "# # Other\n",
    "# import networkx as nx\n",
    "# import pickle\n"
   ]
  },
  {
   "cell_type": "markdown",
   "metadata": {},
   "source": [
    "## Config"
   ]
  },
  {
   "cell_type": "code",
   "execution_count": 2,
   "metadata": {},
   "outputs": [
    {
     "data": {
      "text/plain": [
       "['C:\\\\Users\\\\Tobi\\\\Documents\\\\BFNME Lokal\\\\Buzzards2\\\\config.ini']"
      ]
     },
     "execution_count": 2,
     "metadata": {},
     "output_type": "execute_result"
    }
   ],
   "source": [
    "config = ConfigParser()\n",
    "config.read(r'C:\\Users\\Tobi\\Documents\\BFNME Lokal\\Buzzards2\\config.ini')"
   ]
  },
  {
   "cell_type": "markdown",
   "metadata": {},
   "source": [
    "# Load"
   ]
  },
  {
   "cell_type": "markdown",
   "metadata": {},
   "source": [
    "## Files"
   ]
  },
  {
   "cell_type": "code",
   "execution_count": 3,
   "metadata": {},
   "outputs": [
    {
     "data": {
      "application/vnd.jupyter.widget-view+json": {
       "model_id": "639470f1d8384d4e8a1a308ebc3497e5",
       "version_major": 2,
       "version_minor": 0
      },
      "text/plain": [
       "Loading files:   0%|          | 0/65 [00:00<?, ?it/s]"
      ]
     },
     "metadata": {},
     "output_type": "display_data"
    }
   ],
   "source": [
    "tracks,ids = load_raw_files(config['Path']['tracks'])"
   ]
  },
  {
   "cell_type": "code",
   "execution_count": 4,
   "metadata": {},
   "outputs": [],
   "source": [
    "gdfs_new = []\n",
    "for gdf in tracks:\n",
    "    gdf[\"dt_last_dp\"] = gdf.index.get_level_values(\"datetime\").diff()\n",
    "    gdf[\"dt_next_dp\"] = -gdf.index.get_level_values(\"datetime\").diff(-1)\n",
    "    gdf[\"dur\"] = (gdf.dt_last_dp/2 + gdf.dt_next_dp/2).fillna(timedelta(hours=1))\n",
    "    gdf[\"doy\"] = gdf.index.get_level_values(\"datetime\").dayofyear\n",
    "    gdfs_new.append(gdf)\n",
    "tracks = gdfs_new"
   ]
  },
  {
   "cell_type": "code",
   "execution_count": 5,
   "metadata": {},
   "outputs": [
    {
     "data": {
      "application/vnd.jupyter.widget-view+json": {
       "model_id": "22955491a1a94ebd91c0b334b6945f19",
       "version_major": 2,
       "version_minor": 0
      },
      "text/plain": [
       "  0%|          | 0/64 [00:00<?, ?it/s]"
      ]
     },
     "metadata": {},
     "output_type": "display_data"
    },
    {
     "data": {
      "application/vnd.jupyter.widget-view+json": {
       "model_id": "0d47145e0f10473683bcb1406c94b098",
       "version_major": 2,
       "version_minor": 0
      },
      "text/plain": [
       "SRs:   0%|          | 0/5 [00:00<?, ?it/s]"
      ]
     },
     "metadata": {},
     "output_type": "display_data"
    },
    {
     "data": {
      "application/vnd.jupyter.widget-view+json": {
       "model_id": "a58903a763b441b6bc361395ab7c30c4",
       "version_major": 2,
       "version_minor": 0
      },
      "text/plain": [
       "Contours:   0%|          | 0/1 [00:00<?, ?it/s]"
      ]
     },
     "metadata": {},
     "output_type": "display_data"
    },
    {
     "data": {
      "application/vnd.jupyter.widget-view+json": {
       "model_id": "db0beeb3ba8e4d06a6214e47498052aa",
       "version_major": 2,
       "version_minor": 0
      },
      "text/plain": [
       "Contours:   0%|          | 0/10 [00:00<?, ?it/s]"
      ]
     },
     "metadata": {},
     "output_type": "display_data"
    },
    {
     "data": {
      "application/vnd.jupyter.widget-view+json": {
       "model_id": "aefe49c239c043b49209e0a5e9b9a13e",
       "version_major": 2,
       "version_minor": 0
      },
      "text/plain": [
       "Contours:   0%|          | 0/8 [00:00<?, ?it/s]"
      ]
     },
     "metadata": {},
     "output_type": "display_data"
    },
    {
     "data": {
      "application/vnd.jupyter.widget-view+json": {
       "model_id": "033e67592c254dc1b5a9068283367324",
       "version_major": 2,
       "version_minor": 0
      },
      "text/plain": [
       "SRs:   0%|          | 0/1 [00:00<?, ?it/s]"
      ]
     },
     "metadata": {},
     "output_type": "display_data"
    },
    {
     "data": {
      "application/vnd.jupyter.widget-view+json": {
       "model_id": "00a839235fba4bacb49d12e68b758366",
       "version_major": 2,
       "version_minor": 0
      },
      "text/plain": [
       "Contours:   0%|          | 0/3 [00:00<?, ?it/s]"
      ]
     },
     "metadata": {},
     "output_type": "display_data"
    },
    {
     "data": {
      "application/vnd.jupyter.widget-view+json": {
       "model_id": "b500b7694cf6416caaf1e040f16ead45",
       "version_major": 2,
       "version_minor": 0
      },
      "text/plain": [
       "SRs:   0%|          | 0/6 [00:00<?, ?it/s]"
      ]
     },
     "metadata": {},
     "output_type": "display_data"
    },
    {
     "data": {
      "application/vnd.jupyter.widget-view+json": {
       "model_id": "515baecf795b4a2ba5fd5ba942675bc3",
       "version_major": 2,
       "version_minor": 0
      },
      "text/plain": [
       "Contours:   0%|          | 0/1 [00:00<?, ?it/s]"
      ]
     },
     "metadata": {},
     "output_type": "display_data"
    },
    {
     "data": {
      "application/vnd.jupyter.widget-view+json": {
       "model_id": "1f0cbac2e2c4491897391919d0cfaec7",
       "version_major": 2,
       "version_minor": 0
      },
      "text/plain": [
       "Contours:   0%|          | 0/22 [00:00<?, ?it/s]"
      ]
     },
     "metadata": {},
     "output_type": "display_data"
    },
    {
     "data": {
      "application/vnd.jupyter.widget-view+json": {
       "model_id": "d1610a007fd949fbb559f6a14ea54fa0",
       "version_major": 2,
       "version_minor": 0
      },
      "text/plain": [
       "SRs:   0%|          | 0/8 [00:00<?, ?it/s]"
      ]
     },
     "metadata": {},
     "output_type": "display_data"
    },
    {
     "data": {
      "application/vnd.jupyter.widget-view+json": {
       "model_id": "2677949fb15045068f6db07cabbb271b",
       "version_major": 2,
       "version_minor": 0
      },
      "text/plain": [
       "Contours:   0%|          | 0/1 [00:00<?, ?it/s]"
      ]
     },
     "metadata": {},
     "output_type": "display_data"
    },
    {
     "data": {
      "application/vnd.jupyter.widget-view+json": {
       "model_id": "93a4290ee25740d6830f600ce712c38c",
       "version_major": 2,
       "version_minor": 0
      },
      "text/plain": [
       "SRs:   0%|          | 0/3 [00:00<?, ?it/s]"
      ]
     },
     "metadata": {},
     "output_type": "display_data"
    },
    {
     "data": {
      "application/vnd.jupyter.widget-view+json": {
       "model_id": "aea4ba98325b40fa940140f23920ed3e",
       "version_major": 2,
       "version_minor": 0
      },
      "text/plain": [
       "Contours:   0%|          | 0/4 [00:00<?, ?it/s]"
      ]
     },
     "metadata": {},
     "output_type": "display_data"
    },
    {
     "data": {
      "application/vnd.jupyter.widget-view+json": {
       "model_id": "e74702b417164507990a5c45b993ce73",
       "version_major": 2,
       "version_minor": 0
      },
      "text/plain": [
       "SRs:   0%|          | 0/5 [00:00<?, ?it/s]"
      ]
     },
     "metadata": {},
     "output_type": "display_data"
    },
    {
     "data": {
      "application/vnd.jupyter.widget-view+json": {
       "model_id": "87626256d4d944679b4c2580741551c8",
       "version_major": 2,
       "version_minor": 0
      },
      "text/plain": [
       "Contours:   0%|          | 0/1 [00:00<?, ?it/s]"
      ]
     },
     "metadata": {},
     "output_type": "display_data"
    },
    {
     "data": {
      "application/vnd.jupyter.widget-view+json": {
       "model_id": "cb90ec65da924aa6b9214c62abe53482",
       "version_major": 2,
       "version_minor": 0
      },
      "text/plain": [
       "Contours:   0%|          | 0/11 [00:00<?, ?it/s]"
      ]
     },
     "metadata": {},
     "output_type": "display_data"
    },
    {
     "data": {
      "application/vnd.jupyter.widget-view+json": {
       "model_id": "3b37ea9764d14dcc977e11d395bad01c",
       "version_major": 2,
       "version_minor": 0
      },
      "text/plain": [
       "SRs:   0%|          | 0/4 [00:00<?, ?it/s]"
      ]
     },
     "metadata": {},
     "output_type": "display_data"
    },
    {
     "data": {
      "application/vnd.jupyter.widget-view+json": {
       "model_id": "a3bbf061304145508e05bb3ab7ca0535",
       "version_major": 2,
       "version_minor": 0
      },
      "text/plain": [
       "SRs:   0%|          | 0/1 [00:00<?, ?it/s]"
      ]
     },
     "metadata": {},
     "output_type": "display_data"
    },
    {
     "data": {
      "application/vnd.jupyter.widget-view+json": {
       "model_id": "44fe9fc9cbc04095bda7b9a3c096216c",
       "version_major": 2,
       "version_minor": 0
      },
      "text/plain": [
       "SRs:   0%|          | 0/5 [00:00<?, ?it/s]"
      ]
     },
     "metadata": {},
     "output_type": "display_data"
    },
    {
     "data": {
      "application/vnd.jupyter.widget-view+json": {
       "model_id": "a4254a0b30ed4b299f8e93339e01aed8",
       "version_major": 2,
       "version_minor": 0
      },
      "text/plain": [
       "Contours:   0%|          | 0/1 [00:00<?, ?it/s]"
      ]
     },
     "metadata": {},
     "output_type": "display_data"
    },
    {
     "data": {
      "application/vnd.jupyter.widget-view+json": {
       "model_id": "73db5911c2db4d298a0b6c8a42e97930",
       "version_major": 2,
       "version_minor": 0
      },
      "text/plain": [
       "Contours:   0%|          | 0/1 [00:00<?, ?it/s]"
      ]
     },
     "metadata": {},
     "output_type": "display_data"
    },
    {
     "data": {
      "application/vnd.jupyter.widget-view+json": {
       "model_id": "c4ef4f95b6364d9e9919ab090c310763",
       "version_major": 2,
       "version_minor": 0
      },
      "text/plain": [
       "Contours:   0%|          | 0/7 [00:00<?, ?it/s]"
      ]
     },
     "metadata": {},
     "output_type": "display_data"
    },
    {
     "data": {
      "application/vnd.jupyter.widget-view+json": {
       "model_id": "03f9ec02ce2449e3a8c10c048342d434",
       "version_major": 2,
       "version_minor": 0
      },
      "text/plain": [
       "SRs:   0%|          | 0/2 [00:00<?, ?it/s]"
      ]
     },
     "metadata": {},
     "output_type": "display_data"
    },
    {
     "data": {
      "application/vnd.jupyter.widget-view+json": {
       "model_id": "a496837d4cce4815bde9ddeab385ec9c",
       "version_major": 2,
       "version_minor": 0
      },
      "text/plain": [
       "Contours:   0%|          | 0/1 [00:00<?, ?it/s]"
      ]
     },
     "metadata": {},
     "output_type": "display_data"
    },
    {
     "data": {
      "application/vnd.jupyter.widget-view+json": {
       "model_id": "7ef681dd859c4b1b80bd9f1c3cc7ab7a",
       "version_major": 2,
       "version_minor": 0
      },
      "text/plain": [
       "SRs:   0%|          | 0/8 [00:00<?, ?it/s]"
      ]
     },
     "metadata": {},
     "output_type": "display_data"
    },
    {
     "data": {
      "application/vnd.jupyter.widget-view+json": {
       "model_id": "b51c548eb62e43069ed97ae3bcf60a14",
       "version_major": 2,
       "version_minor": 0
      },
      "text/plain": [
       "Contours:   0%|          | 0/3 [00:00<?, ?it/s]"
      ]
     },
     "metadata": {},
     "output_type": "display_data"
    },
    {
     "data": {
      "application/vnd.jupyter.widget-view+json": {
       "model_id": "37959b4440a64ffe98d7df859a01b5e2",
       "version_major": 2,
       "version_minor": 0
      },
      "text/plain": [
       "SRs:   0%|          | 0/3 [00:00<?, ?it/s]"
      ]
     },
     "metadata": {},
     "output_type": "display_data"
    },
    {
     "data": {
      "application/vnd.jupyter.widget-view+json": {
       "model_id": "b8e61b61d17c429cb27c51f7fe98f03e",
       "version_major": 2,
       "version_minor": 0
      },
      "text/plain": [
       "Contours:   0%|          | 0/2 [00:00<?, ?it/s]"
      ]
     },
     "metadata": {},
     "output_type": "display_data"
    },
    {
     "data": {
      "application/vnd.jupyter.widget-view+json": {
       "model_id": "084c50190bdc416cad746271fafbb2eb",
       "version_major": 2,
       "version_minor": 0
      },
      "text/plain": [
       "Contours:   0%|          | 0/6 [00:00<?, ?it/s]"
      ]
     },
     "metadata": {},
     "output_type": "display_data"
    },
    {
     "data": {
      "application/vnd.jupyter.widget-view+json": {
       "model_id": "4c7ca67de3664b7dbe8b22fbcbf967a6",
       "version_major": 2,
       "version_minor": 0
      },
      "text/plain": [
       "SRs:   0%|          | 0/7 [00:00<?, ?it/s]"
      ]
     },
     "metadata": {},
     "output_type": "display_data"
    },
    {
     "data": {
      "application/vnd.jupyter.widget-view+json": {
       "model_id": "3194ed42d8604dedbb9cb7a3ddf10b65",
       "version_major": 2,
       "version_minor": 0
      },
      "text/plain": [
       "Contours:   0%|          | 0/2 [00:00<?, ?it/s]"
      ]
     },
     "metadata": {},
     "output_type": "display_data"
    },
    {
     "data": {
      "application/vnd.jupyter.widget-view+json": {
       "model_id": "d0b6f51ce8214466b45d1de7a0e8e35e",
       "version_major": 2,
       "version_minor": 0
      },
      "text/plain": [
       "SRs:   0%|          | 0/6 [00:00<?, ?it/s]"
      ]
     },
     "metadata": {},
     "output_type": "display_data"
    },
    {
     "data": {
      "application/vnd.jupyter.widget-view+json": {
       "model_id": "465881e14f5c469e9c3f6280a3107690",
       "version_major": 2,
       "version_minor": 0
      },
      "text/plain": [
       "Contours:   0%|          | 0/5 [00:00<?, ?it/s]"
      ]
     },
     "metadata": {},
     "output_type": "display_data"
    },
    {
     "data": {
      "application/vnd.jupyter.widget-view+json": {
       "model_id": "087da1b7c112464dbce1805744c83571",
       "version_major": 2,
       "version_minor": 0
      },
      "text/plain": [
       "SRs:   0%|          | 0/4 [00:00<?, ?it/s]"
      ]
     },
     "metadata": {},
     "output_type": "display_data"
    },
    {
     "data": {
      "application/vnd.jupyter.widget-view+json": {
       "model_id": "09774ddab918476e9cf676548edb43a9",
       "version_major": 2,
       "version_minor": 0
      },
      "text/plain": [
       "Contours:   0%|          | 0/2 [00:00<?, ?it/s]"
      ]
     },
     "metadata": {},
     "output_type": "display_data"
    },
    {
     "data": {
      "application/vnd.jupyter.widget-view+json": {
       "model_id": "b21cc12a790241e6b47a4e5b3e05ca7a",
       "version_major": 2,
       "version_minor": 0
      },
      "text/plain": [
       "SRs:   0%|          | 0/1 [00:00<?, ?it/s]"
      ]
     },
     "metadata": {},
     "output_type": "display_data"
    },
    {
     "data": {
      "application/vnd.jupyter.widget-view+json": {
       "model_id": "e073f6fea5a84313bb6b3b8adf84db64",
       "version_major": 2,
       "version_minor": 0
      },
      "text/plain": [
       "Contours:   0%|          | 0/1 [00:00<?, ?it/s]"
      ]
     },
     "metadata": {},
     "output_type": "display_data"
    },
    {
     "data": {
      "application/vnd.jupyter.widget-view+json": {
       "model_id": "948b560e18144c4ab8e732838a50e3dd",
       "version_major": 2,
       "version_minor": 0
      },
      "text/plain": [
       "SRs:   0%|          | 0/1 [00:00<?, ?it/s]"
      ]
     },
     "metadata": {},
     "output_type": "display_data"
    },
    {
     "data": {
      "application/vnd.jupyter.widget-view+json": {
       "model_id": "4490fafb93874e748bef766dfda0e8d2",
       "version_major": 2,
       "version_minor": 0
      },
      "text/plain": [
       "Contours:   0%|          | 0/4 [00:00<?, ?it/s]"
      ]
     },
     "metadata": {},
     "output_type": "display_data"
    },
    {
     "data": {
      "application/vnd.jupyter.widget-view+json": {
       "model_id": "d629de900aaa470b805447e1784c7f26",
       "version_major": 2,
       "version_minor": 0
      },
      "text/plain": [
       "SRs:   0%|          | 0/3 [00:00<?, ?it/s]"
      ]
     },
     "metadata": {},
     "output_type": "display_data"
    },
    {
     "data": {
      "application/vnd.jupyter.widget-view+json": {
       "model_id": "213f352e6dd64f8b8e1980e09bd99dd4",
       "version_major": 2,
       "version_minor": 0
      },
      "text/plain": [
       "Contours:   0%|          | 0/9 [00:00<?, ?it/s]"
      ]
     },
     "metadata": {},
     "output_type": "display_data"
    },
    {
     "data": {
      "application/vnd.jupyter.widget-view+json": {
       "model_id": "db42fa0f4cc3415c95e2ecafaf4a0f7b",
       "version_major": 2,
       "version_minor": 0
      },
      "text/plain": [
       "Contours:   0%|          | 0/4 [00:00<?, ?it/s]"
      ]
     },
     "metadata": {},
     "output_type": "display_data"
    },
    {
     "data": {
      "application/vnd.jupyter.widget-view+json": {
       "model_id": "b2628843faa7415093d25d705e9142b2",
       "version_major": 2,
       "version_minor": 0
      },
      "text/plain": [
       "SRs:   0%|          | 0/2 [00:00<?, ?it/s]"
      ]
     },
     "metadata": {},
     "output_type": "display_data"
    },
    {
     "data": {
      "application/vnd.jupyter.widget-view+json": {
       "model_id": "94c1171d60cf4c4099e8726ca818562d",
       "version_major": 2,
       "version_minor": 0
      },
      "text/plain": [
       "Contours:   0%|          | 0/1 [00:00<?, ?it/s]"
      ]
     },
     "metadata": {},
     "output_type": "display_data"
    },
    {
     "data": {
      "application/vnd.jupyter.widget-view+json": {
       "model_id": "17bece1f1449466aadd1e894aa724939",
       "version_major": 2,
       "version_minor": 0
      },
      "text/plain": [
       "SRs:   0%|          | 0/3 [00:00<?, ?it/s]"
      ]
     },
     "metadata": {},
     "output_type": "display_data"
    },
    {
     "data": {
      "application/vnd.jupyter.widget-view+json": {
       "model_id": "e0a0a37416aa4214a313950d4ede6cbc",
       "version_major": 2,
       "version_minor": 0
      },
      "text/plain": [
       "Contours:   0%|          | 0/47 [00:00<?, ?it/s]"
      ]
     },
     "metadata": {},
     "output_type": "display_data"
    },
    {
     "data": {
      "application/vnd.jupyter.widget-view+json": {
       "model_id": "9eed4b3884c4432798eb5744c8ef9f43",
       "version_major": 2,
       "version_minor": 0
      },
      "text/plain": [
       "Contours:   0%|          | 0/7 [00:00<?, ?it/s]"
      ]
     },
     "metadata": {},
     "output_type": "display_data"
    },
    {
     "data": {
      "application/vnd.jupyter.widget-view+json": {
       "model_id": "e691a42d8fa540f5b8ae7170bfd538b1",
       "version_major": 2,
       "version_minor": 0
      },
      "text/plain": [
       "Contours:   0%|          | 0/2 [00:00<?, ?it/s]"
      ]
     },
     "metadata": {},
     "output_type": "display_data"
    },
    {
     "data": {
      "application/vnd.jupyter.widget-view+json": {
       "model_id": "9f63e7fc7e074f5d998f4c9b67ae53d8",
       "version_major": 2,
       "version_minor": 0
      },
      "text/plain": [
       "SRs:   0%|          | 0/1 [00:00<?, ?it/s]"
      ]
     },
     "metadata": {},
     "output_type": "display_data"
    },
    {
     "data": {
      "application/vnd.jupyter.widget-view+json": {
       "model_id": "a4c9660327ac4fed81306e63619cdac0",
       "version_major": 2,
       "version_minor": 0
      },
      "text/plain": [
       "SRs:   0%|          | 0/6 [00:00<?, ?it/s]"
      ]
     },
     "metadata": {},
     "output_type": "display_data"
    },
    {
     "data": {
      "application/vnd.jupyter.widget-view+json": {
       "model_id": "4c791969b5ee4aa98d638aa87d26a587",
       "version_major": 2,
       "version_minor": 0
      },
      "text/plain": [
       "Contours:   0%|          | 0/1 [00:00<?, ?it/s]"
      ]
     },
     "metadata": {},
     "output_type": "display_data"
    },
    {
     "data": {
      "application/vnd.jupyter.widget-view+json": {
       "model_id": "43b7b8ff8e8342e193a5cf6d8a90ed0c",
       "version_major": 2,
       "version_minor": 0
      },
      "text/plain": [
       "Contours:   0%|          | 0/16 [00:00<?, ?it/s]"
      ]
     },
     "metadata": {},
     "output_type": "display_data"
    },
    {
     "data": {
      "application/vnd.jupyter.widget-view+json": {
       "model_id": "cd084132bb7e4a2fb1a40eccd03a42ab",
       "version_major": 2,
       "version_minor": 0
      },
      "text/plain": [
       "SRs:   0%|          | 0/5 [00:00<?, ?it/s]"
      ]
     },
     "metadata": {},
     "output_type": "display_data"
    },
    {
     "data": {
      "application/vnd.jupyter.widget-view+json": {
       "model_id": "f5dba0353aef40e39093b0139c5ff94a",
       "version_major": 2,
       "version_minor": 0
      },
      "text/plain": [
       "Contours:   0%|          | 0/1 [00:00<?, ?it/s]"
      ]
     },
     "metadata": {},
     "output_type": "display_data"
    },
    {
     "data": {
      "application/vnd.jupyter.widget-view+json": {
       "model_id": "546329a9171948cfb981afba39567221",
       "version_major": 2,
       "version_minor": 0
      },
      "text/plain": [
       "Contours:   0%|          | 0/4 [00:00<?, ?it/s]"
      ]
     },
     "metadata": {},
     "output_type": "display_data"
    },
    {
     "data": {
      "application/vnd.jupyter.widget-view+json": {
       "model_id": "7beb61fc8a0d486184e89676264ac71a",
       "version_major": 2,
       "version_minor": 0
      },
      "text/plain": [
       "Contours:   0%|          | 0/5 [00:00<?, ?it/s]"
      ]
     },
     "metadata": {},
     "output_type": "display_data"
    },
    {
     "data": {
      "application/vnd.jupyter.widget-view+json": {
       "model_id": "7247435ce160476d983c37b8050d3ff6",
       "version_major": 2,
       "version_minor": 0
      },
      "text/plain": [
       "SRs:   0%|          | 0/8 [00:00<?, ?it/s]"
      ]
     },
     "metadata": {},
     "output_type": "display_data"
    },
    {
     "data": {
      "application/vnd.jupyter.widget-view+json": {
       "model_id": "162ec3ae2f294a2b94649f7a1b7193fd",
       "version_major": 2,
       "version_minor": 0
      },
      "text/plain": [
       "Contours:   0%|          | 0/1 [00:00<?, ?it/s]"
      ]
     },
     "metadata": {},
     "output_type": "display_data"
    },
    {
     "data": {
      "application/vnd.jupyter.widget-view+json": {
       "model_id": "f699f288486f4dd0b5bad1d6bda6bd53",
       "version_major": 2,
       "version_minor": 0
      },
      "text/plain": [
       "Contours:   0%|          | 0/1 [00:00<?, ?it/s]"
      ]
     },
     "metadata": {},
     "output_type": "display_data"
    },
    {
     "data": {
      "application/vnd.jupyter.widget-view+json": {
       "model_id": "3ea4993344274a0cbc713f4a69c03fcb",
       "version_major": 2,
       "version_minor": 0
      },
      "text/plain": [
       "SRs:   0%|          | 0/12 [00:00<?, ?it/s]"
      ]
     },
     "metadata": {},
     "output_type": "display_data"
    },
    {
     "data": {
      "application/vnd.jupyter.widget-view+json": {
       "model_id": "d0b75a5efc784232ab689567d8b21866",
       "version_major": 2,
       "version_minor": 0
      },
      "text/plain": [
       "Contours:   0%|          | 0/2 [00:00<?, ?it/s]"
      ]
     },
     "metadata": {},
     "output_type": "display_data"
    },
    {
     "data": {
      "application/vnd.jupyter.widget-view+json": {
       "model_id": "0d5d3b20ebf24066a0ed27248ad97db1",
       "version_major": 2,
       "version_minor": 0
      },
      "text/plain": [
       "Contours:   0%|          | 0/2 [00:00<?, ?it/s]"
      ]
     },
     "metadata": {},
     "output_type": "display_data"
    },
    {
     "data": {
      "application/vnd.jupyter.widget-view+json": {
       "model_id": "5191e1c04b6a46d6898429fe7f50f9d3",
       "version_major": 2,
       "version_minor": 0
      },
      "text/plain": [
       "Contours:   0%|          | 0/2 [00:00<?, ?it/s]"
      ]
     },
     "metadata": {},
     "output_type": "display_data"
    },
    {
     "data": {
      "application/vnd.jupyter.widget-view+json": {
       "model_id": "56f0f9a1bbdb4128805fc7aa9e3253f2",
       "version_major": 2,
       "version_minor": 0
      },
      "text/plain": [
       "Contours:   0%|          | 0/4 [00:00<?, ?it/s]"
      ]
     },
     "metadata": {},
     "output_type": "display_data"
    },
    {
     "data": {
      "application/vnd.jupyter.widget-view+json": {
       "model_id": "dd5b8405be254839a50a48caba321009",
       "version_major": 2,
       "version_minor": 0
      },
      "text/plain": [
       "Contours:   0%|          | 0/8 [00:00<?, ?it/s]"
      ]
     },
     "metadata": {},
     "output_type": "display_data"
    },
    {
     "data": {
      "application/vnd.jupyter.widget-view+json": {
       "model_id": "12d1901b92b8442f94e63334c8b118d1",
       "version_major": 2,
       "version_minor": 0
      },
      "text/plain": [
       "Contours:   0%|          | 0/1 [00:00<?, ?it/s]"
      ]
     },
     "metadata": {},
     "output_type": "display_data"
    },
    {
     "data": {
      "application/vnd.jupyter.widget-view+json": {
       "model_id": "0dfc53ba8a0a4051a6b50e9df64d0760",
       "version_major": 2,
       "version_minor": 0
      },
      "text/plain": [
       "SRs:   0%|          | 0/5 [00:00<?, ?it/s]"
      ]
     },
     "metadata": {},
     "output_type": "display_data"
    },
    {
     "data": {
      "application/vnd.jupyter.widget-view+json": {
       "model_id": "d26547f720cf4a788c79ee7e447af767",
       "version_major": 2,
       "version_minor": 0
      },
      "text/plain": [
       "Contours:   0%|          | 0/1 [00:00<?, ?it/s]"
      ]
     },
     "metadata": {},
     "output_type": "display_data"
    },
    {
     "data": {
      "application/vnd.jupyter.widget-view+json": {
       "model_id": "f9a1b6592b1c4d1e930ac7162e275816",
       "version_major": 2,
       "version_minor": 0
      },
      "text/plain": [
       "SRs:   0%|          | 0/8 [00:00<?, ?it/s]"
      ]
     },
     "metadata": {},
     "output_type": "display_data"
    },
    {
     "data": {
      "application/vnd.jupyter.widget-view+json": {
       "model_id": "4bcd8efa055346f09d0cba1ecb4eba85",
       "version_major": 2,
       "version_minor": 0
      },
      "text/plain": [
       "Contours:   0%|          | 0/1 [00:00<?, ?it/s]"
      ]
     },
     "metadata": {},
     "output_type": "display_data"
    },
    {
     "data": {
      "application/vnd.jupyter.widget-view+json": {
       "model_id": "c6fee8d5a4f641f4a7790d0ee3f98b9f",
       "version_major": 2,
       "version_minor": 0
      },
      "text/plain": [
       "Contours:   0%|          | 0/6 [00:00<?, ?it/s]"
      ]
     },
     "metadata": {},
     "output_type": "display_data"
    },
    {
     "data": {
      "application/vnd.jupyter.widget-view+json": {
       "model_id": "72b79cf4a12944d7b1b46681f36725ba",
       "version_major": 2,
       "version_minor": 0
      },
      "text/plain": [
       "Contours:   0%|          | 0/3 [00:00<?, ?it/s]"
      ]
     },
     "metadata": {},
     "output_type": "display_data"
    },
    {
     "data": {
      "application/vnd.jupyter.widget-view+json": {
       "model_id": "4e57dd45c5e848f9bedd3b86c52d7952",
       "version_major": 2,
       "version_minor": 0
      },
      "text/plain": [
       "Contours:   0%|          | 0/19 [00:00<?, ?it/s]"
      ]
     },
     "metadata": {},
     "output_type": "display_data"
    },
    {
     "data": {
      "application/vnd.jupyter.widget-view+json": {
       "model_id": "9e6d95b836d74d93a752346ec943f933",
       "version_major": 2,
       "version_minor": 0
      },
      "text/plain": [
       "SRs:   0%|          | 0/5 [00:00<?, ?it/s]"
      ]
     },
     "metadata": {},
     "output_type": "display_data"
    },
    {
     "data": {
      "application/vnd.jupyter.widget-view+json": {
       "model_id": "0a1955582bbf48afab44700f8bfd1f84",
       "version_major": 2,
       "version_minor": 0
      },
      "text/plain": [
       "Contours:   0%|          | 0/2 [00:00<?, ?it/s]"
      ]
     },
     "metadata": {},
     "output_type": "display_data"
    },
    {
     "data": {
      "application/vnd.jupyter.widget-view+json": {
       "model_id": "0975f92528fd43b1a55055c24cc635b8",
       "version_major": 2,
       "version_minor": 0
      },
      "text/plain": [
       "Contours:   0%|          | 0/8 [00:00<?, ?it/s]"
      ]
     },
     "metadata": {},
     "output_type": "display_data"
    },
    {
     "data": {
      "application/vnd.jupyter.widget-view+json": {
       "model_id": "abdfa72a44c8476a8f9f82e35bb190fb",
       "version_major": 2,
       "version_minor": 0
      },
      "text/plain": [
       "Contours:   0%|          | 0/4 [00:00<?, ?it/s]"
      ]
     },
     "metadata": {},
     "output_type": "display_data"
    },
    {
     "data": {
      "application/vnd.jupyter.widget-view+json": {
       "model_id": "229384ab435945db9fbe3607c6ab1736",
       "version_major": 2,
       "version_minor": 0
      },
      "text/plain": [
       "Contours:   0%|          | 0/3 [00:00<?, ?it/s]"
      ]
     },
     "metadata": {},
     "output_type": "display_data"
    },
    {
     "data": {
      "application/vnd.jupyter.widget-view+json": {
       "model_id": "ffaf914135f24c60a495a7709dcedeaa",
       "version_major": 2,
       "version_minor": 0
      },
      "text/plain": [
       "SRs:   0%|          | 0/8 [00:00<?, ?it/s]"
      ]
     },
     "metadata": {},
     "output_type": "display_data"
    },
    {
     "data": {
      "application/vnd.jupyter.widget-view+json": {
       "model_id": "c049b8045fed49cf8c914527b75f9e47",
       "version_major": 2,
       "version_minor": 0
      },
      "text/plain": [
       "Contours:   0%|          | 0/1 [00:00<?, ?it/s]"
      ]
     },
     "metadata": {},
     "output_type": "display_data"
    },
    {
     "data": {
      "application/vnd.jupyter.widget-view+json": {
       "model_id": "182d0b6c7ba94d72bbeafd8805398374",
       "version_major": 2,
       "version_minor": 0
      },
      "text/plain": [
       "Contours:   0%|          | 0/4 [00:00<?, ?it/s]"
      ]
     },
     "metadata": {},
     "output_type": "display_data"
    },
    {
     "data": {
      "application/vnd.jupyter.widget-view+json": {
       "model_id": "55c9a2666d5c4562b5169354bba97306",
       "version_major": 2,
       "version_minor": 0
      },
      "text/plain": [
       "Contours:   0%|          | 0/2 [00:00<?, ?it/s]"
      ]
     },
     "metadata": {},
     "output_type": "display_data"
    },
    {
     "data": {
      "application/vnd.jupyter.widget-view+json": {
       "model_id": "7d3fc667af294a75acad3a96b98fdc07",
       "version_major": 2,
       "version_minor": 0
      },
      "text/plain": [
       "Contours:   0%|          | 0/2 [00:00<?, ?it/s]"
      ]
     },
     "metadata": {},
     "output_type": "display_data"
    },
    {
     "data": {
      "application/vnd.jupyter.widget-view+json": {
       "model_id": "2e60715985184d82a9394865a9272989",
       "version_major": 2,
       "version_minor": 0
      },
      "text/plain": [
       "SRs:   0%|          | 0/17 [00:00<?, ?it/s]"
      ]
     },
     "metadata": {},
     "output_type": "display_data"
    },
    {
     "data": {
      "application/vnd.jupyter.widget-view+json": {
       "model_id": "a3f0b76ed67b4811b4592550c87adefd",
       "version_major": 2,
       "version_minor": 0
      },
      "text/plain": [
       "Contours:   0%|          | 0/1 [00:00<?, ?it/s]"
      ]
     },
     "metadata": {},
     "output_type": "display_data"
    },
    {
     "data": {
      "application/vnd.jupyter.widget-view+json": {
       "model_id": "8bc0be000e344665b0375431cb641abd",
       "version_major": 2,
       "version_minor": 0
      },
      "text/plain": [
       "Contours:   0%|          | 0/2 [00:00<?, ?it/s]"
      ]
     },
     "metadata": {},
     "output_type": "display_data"
    },
    {
     "data": {
      "application/vnd.jupyter.widget-view+json": {
       "model_id": "c3752774e1c849b2b1b408744817f7ac",
       "version_major": 2,
       "version_minor": 0
      },
      "text/plain": [
       "Contours:   0%|          | 0/14 [00:00<?, ?it/s]"
      ]
     },
     "metadata": {},
     "output_type": "display_data"
    },
    {
     "data": {
      "application/vnd.jupyter.widget-view+json": {
       "model_id": "2eb67161c05c4cc0bed94b2e0adbdf18",
       "version_major": 2,
       "version_minor": 0
      },
      "text/plain": [
       "Contours:   0%|          | 0/6 [00:00<?, ?it/s]"
      ]
     },
     "metadata": {},
     "output_type": "display_data"
    },
    {
     "data": {
      "application/vnd.jupyter.widget-view+json": {
       "model_id": "012d4b3d052d40fba4ffd7d0a5dbeb07",
       "version_major": 2,
       "version_minor": 0
      },
      "text/plain": [
       "Contours:   0%|          | 0/31 [00:00<?, ?it/s]"
      ]
     },
     "metadata": {},
     "output_type": "display_data"
    },
    {
     "data": {
      "application/vnd.jupyter.widget-view+json": {
       "model_id": "258dfc1e446143eabe726a2923714ff9",
       "version_major": 2,
       "version_minor": 0
      },
      "text/plain": [
       "Contours:   0%|          | 0/16 [00:00<?, ?it/s]"
      ]
     },
     "metadata": {},
     "output_type": "display_data"
    },
    {
     "data": {
      "application/vnd.jupyter.widget-view+json": {
       "model_id": "59793d083e2b48adbaf7d2d7b409a5c7",
       "version_major": 2,
       "version_minor": 0
      },
      "text/plain": [
       "Contours:   0%|          | 0/2 [00:00<?, ?it/s]"
      ]
     },
     "metadata": {},
     "output_type": "display_data"
    },
    {
     "data": {
      "application/vnd.jupyter.widget-view+json": {
       "model_id": "e89789958aed4c74bd8d462ae9d3679d",
       "version_major": 2,
       "version_minor": 0
      },
      "text/plain": [
       "Contours:   0%|          | 0/4 [00:00<?, ?it/s]"
      ]
     },
     "metadata": {},
     "output_type": "display_data"
    },
    {
     "data": {
      "application/vnd.jupyter.widget-view+json": {
       "model_id": "c7c5caf3e2dc46c7a8a8dc8a891aa544",
       "version_major": 2,
       "version_minor": 0
      },
      "text/plain": [
       "Contours:   0%|          | 0/1 [00:00<?, ?it/s]"
      ]
     },
     "metadata": {},
     "output_type": "display_data"
    },
    {
     "data": {
      "application/vnd.jupyter.widget-view+json": {
       "model_id": "5e7da19233d34d379533d22f416e141a",
       "version_major": 2,
       "version_minor": 0
      },
      "text/plain": [
       "Contours:   0%|          | 0/4 [00:00<?, ?it/s]"
      ]
     },
     "metadata": {},
     "output_type": "display_data"
    },
    {
     "data": {
      "application/vnd.jupyter.widget-view+json": {
       "model_id": "afe1af03526b44988324280dacda922c",
       "version_major": 2,
       "version_minor": 0
      },
      "text/plain": [
       "Contours:   0%|          | 0/1 [00:00<?, ?it/s]"
      ]
     },
     "metadata": {},
     "output_type": "display_data"
    },
    {
     "data": {
      "application/vnd.jupyter.widget-view+json": {
       "model_id": "216da3be54b248679d0c6a90997e0cf7",
       "version_major": 2,
       "version_minor": 0
      },
      "text/plain": [
       "Contours:   0%|          | 0/9 [00:00<?, ?it/s]"
      ]
     },
     "metadata": {},
     "output_type": "display_data"
    },
    {
     "data": {
      "application/vnd.jupyter.widget-view+json": {
       "model_id": "e02eeec7069c4c318fde8db2e29edc33",
       "version_major": 2,
       "version_minor": 0
      },
      "text/plain": [
       "Contours:   0%|          | 0/7 [00:00<?, ?it/s]"
      ]
     },
     "metadata": {},
     "output_type": "display_data"
    },
    {
     "data": {
      "application/vnd.jupyter.widget-view+json": {
       "model_id": "20fd266a8d784e9aac0e53fde98ac402",
       "version_major": 2,
       "version_minor": 0
      },
      "text/plain": [
       "Contours:   0%|          | 0/6 [00:00<?, ?it/s]"
      ]
     },
     "metadata": {},
     "output_type": "display_data"
    },
    {
     "data": {
      "application/vnd.jupyter.widget-view+json": {
       "model_id": "b45b4f1ba2ee4f81b6b738a1a2d5fa91",
       "version_major": 2,
       "version_minor": 0
      },
      "text/plain": [
       "SRs:   0%|          | 0/9 [00:00<?, ?it/s]"
      ]
     },
     "metadata": {},
     "output_type": "display_data"
    },
    {
     "data": {
      "application/vnd.jupyter.widget-view+json": {
       "model_id": "79a1cb39f0cb43f4bd5db198957a4e05",
       "version_major": 2,
       "version_minor": 0
      },
      "text/plain": [
       "Contours:   0%|          | 0/2 [00:00<?, ?it/s]"
      ]
     },
     "metadata": {},
     "output_type": "display_data"
    },
    {
     "data": {
      "application/vnd.jupyter.widget-view+json": {
       "model_id": "0568612e305b4811b64830c4fcb4e05e",
       "version_major": 2,
       "version_minor": 0
      },
      "text/plain": [
       "Contours:   0%|          | 0/5 [00:00<?, ?it/s]"
      ]
     },
     "metadata": {},
     "output_type": "display_data"
    },
    {
     "data": {
      "application/vnd.jupyter.widget-view+json": {
       "model_id": "6029373051e84625b8379730fb9e4517",
       "version_major": 2,
       "version_minor": 0
      },
      "text/plain": [
       "Contours:   0%|          | 0/5 [00:00<?, ?it/s]"
      ]
     },
     "metadata": {},
     "output_type": "display_data"
    },
    {
     "data": {
      "application/vnd.jupyter.widget-view+json": {
       "model_id": "7e69dfdc7de84a809eef5c150979e022",
       "version_major": 2,
       "version_minor": 0
      },
      "text/plain": [
       "Contours:   0%|          | 0/5 [00:00<?, ?it/s]"
      ]
     },
     "metadata": {},
     "output_type": "display_data"
    },
    {
     "data": {
      "application/vnd.jupyter.widget-view+json": {
       "model_id": "2938c0d45c6b49d090f5c7c826c7ad13",
       "version_major": 2,
       "version_minor": 0
      },
      "text/plain": [
       "Contours:   0%|          | 0/15 [00:00<?, ?it/s]"
      ]
     },
     "metadata": {},
     "output_type": "display_data"
    },
    {
     "data": {
      "application/vnd.jupyter.widget-view+json": {
       "model_id": "2a759f667641402baa3ae1e6a576eb3a",
       "version_major": 2,
       "version_minor": 0
      },
      "text/plain": [
       "Contours:   0%|          | 0/10 [00:00<?, ?it/s]"
      ]
     },
     "metadata": {},
     "output_type": "display_data"
    },
    {
     "data": {
      "application/vnd.jupyter.widget-view+json": {
       "model_id": "90350e8e1a06400caf5569c42abbdd9a",
       "version_major": 2,
       "version_minor": 0
      },
      "text/plain": [
       "Contours:   0%|          | 0/28 [00:00<?, ?it/s]"
      ]
     },
     "metadata": {},
     "output_type": "display_data"
    },
    {
     "data": {
      "application/vnd.jupyter.widget-view+json": {
       "model_id": "1e2699cf4ebb4540b113aa800cbbd553",
       "version_major": 2,
       "version_minor": 0
      },
      "text/plain": [
       "Contours:   0%|          | 0/5 [00:00<?, ?it/s]"
      ]
     },
     "metadata": {},
     "output_type": "display_data"
    },
    {
     "data": {
      "application/vnd.jupyter.widget-view+json": {
       "model_id": "a57c77d1a3b747f2b0704397ba003d6b",
       "version_major": 2,
       "version_minor": 0
      },
      "text/plain": [
       "SRs:   0%|          | 0/7 [00:00<?, ?it/s]"
      ]
     },
     "metadata": {},
     "output_type": "display_data"
    },
    {
     "data": {
      "application/vnd.jupyter.widget-view+json": {
       "model_id": "8e6c872ae29041d7b4e748af1bcfb31b",
       "version_major": 2,
       "version_minor": 0
      },
      "text/plain": [
       "Contours:   0%|          | 0/8 [00:00<?, ?it/s]"
      ]
     },
     "metadata": {},
     "output_type": "display_data"
    },
    {
     "data": {
      "application/vnd.jupyter.widget-view+json": {
       "model_id": "08b08a2fe74f419b9141b2ce134be7b3",
       "version_major": 2,
       "version_minor": 0
      },
      "text/plain": [
       "Contours:   0%|          | 0/8 [00:00<?, ?it/s]"
      ]
     },
     "metadata": {},
     "output_type": "display_data"
    },
    {
     "data": {
      "application/vnd.jupyter.widget-view+json": {
       "model_id": "4e819ef4865e487f82499a570fc71480",
       "version_major": 2,
       "version_minor": 0
      },
      "text/plain": [
       "Contours:   0%|          | 0/4 [00:00<?, ?it/s]"
      ]
     },
     "metadata": {},
     "output_type": "display_data"
    },
    {
     "data": {
      "application/vnd.jupyter.widget-view+json": {
       "model_id": "63c03f1f3040415b9330fee38f77dc6e",
       "version_major": 2,
       "version_minor": 0
      },
      "text/plain": [
       "SRs:   0%|          | 0/16 [00:00<?, ?it/s]"
      ]
     },
     "metadata": {},
     "output_type": "display_data"
    },
    {
     "data": {
      "application/vnd.jupyter.widget-view+json": {
       "model_id": "9113b1068e044373a29ec4b1db15f346",
       "version_major": 2,
       "version_minor": 0
      },
      "text/plain": [
       "Contours:   0%|          | 0/2 [00:00<?, ?it/s]"
      ]
     },
     "metadata": {},
     "output_type": "display_data"
    },
    {
     "data": {
      "application/vnd.jupyter.widget-view+json": {
       "model_id": "7bd6d90ae45f4130a7698ec48e79c52f",
       "version_major": 2,
       "version_minor": 0
      },
      "text/plain": [
       "Contours:   0%|          | 0/38 [00:00<?, ?it/s]"
      ]
     },
     "metadata": {},
     "output_type": "display_data"
    },
    {
     "data": {
      "application/vnd.jupyter.widget-view+json": {
       "model_id": "bcb4fa8e9c4e4be994034ea72a89dc28",
       "version_major": 2,
       "version_minor": 0
      },
      "text/plain": [
       "Contours:   0%|          | 0/10 [00:00<?, ?it/s]"
      ]
     },
     "metadata": {},
     "output_type": "display_data"
    },
    {
     "data": {
      "application/vnd.jupyter.widget-view+json": {
       "model_id": "02deb6916298492793fedfdf8aca0fb9",
       "version_major": 2,
       "version_minor": 0
      },
      "text/plain": [
       "Contours:   0%|          | 0/8 [00:00<?, ?it/s]"
      ]
     },
     "metadata": {},
     "output_type": "display_data"
    },
    {
     "data": {
      "application/vnd.jupyter.widget-view+json": {
       "model_id": "42c54f970ecf4b58b48a1ac1f7195cde",
       "version_major": 2,
       "version_minor": 0
      },
      "text/plain": [
       "Contours:   0%|          | 0/5 [00:00<?, ?it/s]"
      ]
     },
     "metadata": {},
     "output_type": "display_data"
    },
    {
     "data": {
      "application/vnd.jupyter.widget-view+json": {
       "model_id": "0f6bfc43cf9041a4b669abb5f0a167e1",
       "version_major": 2,
       "version_minor": 0
      },
      "text/plain": [
       "Contours:   0%|          | 0/25 [00:00<?, ?it/s]"
      ]
     },
     "metadata": {},
     "output_type": "display_data"
    },
    {
     "data": {
      "application/vnd.jupyter.widget-view+json": {
       "model_id": "5297ff0bbab843cebe8e70a3f953e537",
       "version_major": 2,
       "version_minor": 0
      },
      "text/plain": [
       "Contours:   0%|          | 0/4 [00:00<?, ?it/s]"
      ]
     },
     "metadata": {},
     "output_type": "display_data"
    },
    {
     "data": {
      "application/vnd.jupyter.widget-view+json": {
       "model_id": "14fa46d88be441f48a485805b6b8df9d",
       "version_major": 2,
       "version_minor": 0
      },
      "text/plain": [
       "Contours:   0%|          | 0/2 [00:00<?, ?it/s]"
      ]
     },
     "metadata": {},
     "output_type": "display_data"
    },
    {
     "data": {
      "application/vnd.jupyter.widget-view+json": {
       "model_id": "47140b86fdf84283905844a22d3eae9f",
       "version_major": 2,
       "version_minor": 0
      },
      "text/plain": [
       "Contours:   0%|          | 0/2 [00:00<?, ?it/s]"
      ]
     },
     "metadata": {},
     "output_type": "display_data"
    },
    {
     "data": {
      "application/vnd.jupyter.widget-view+json": {
       "model_id": "29ba0f7c54754602928b79184e94c107",
       "version_major": 2,
       "version_minor": 0
      },
      "text/plain": [
       "Contours:   0%|          | 0/1 [00:00<?, ?it/s]"
      ]
     },
     "metadata": {},
     "output_type": "display_data"
    },
    {
     "data": {
      "application/vnd.jupyter.widget-view+json": {
       "model_id": "a3b32c60396444f393c09e48a4be6e9f",
       "version_major": 2,
       "version_minor": 0
      },
      "text/plain": [
       "Contours:   0%|          | 0/3 [00:00<?, ?it/s]"
      ]
     },
     "metadata": {},
     "output_type": "display_data"
    },
    {
     "data": {
      "application/vnd.jupyter.widget-view+json": {
       "model_id": "bf7ac3208b7a4314ae78d881e2aedf4e",
       "version_major": 2,
       "version_minor": 0
      },
      "text/plain": [
       "SRs:   0%|          | 0/9 [00:00<?, ?it/s]"
      ]
     },
     "metadata": {},
     "output_type": "display_data"
    },
    {
     "data": {
      "application/vnd.jupyter.widget-view+json": {
       "model_id": "1286143a77dc47a0be3cdaf2a0a21d49",
       "version_major": 2,
       "version_minor": 0
      },
      "text/plain": [
       "Contours:   0%|          | 0/8 [00:00<?, ?it/s]"
      ]
     },
     "metadata": {},
     "output_type": "display_data"
    },
    {
     "data": {
      "application/vnd.jupyter.widget-view+json": {
       "model_id": "f7f9b8d2d1c14586bf55e419949c0ce3",
       "version_major": 2,
       "version_minor": 0
      },
      "text/plain": [
       "Contours:   0%|          | 0/5 [00:00<?, ?it/s]"
      ]
     },
     "metadata": {},
     "output_type": "display_data"
    },
    {
     "data": {
      "application/vnd.jupyter.widget-view+json": {
       "model_id": "2de691e7f6914e9ba3981ec258beea38",
       "version_major": 2,
       "version_minor": 0
      },
      "text/plain": [
       "Contours:   0%|          | 0/4 [00:00<?, ?it/s]"
      ]
     },
     "metadata": {},
     "output_type": "display_data"
    },
    {
     "data": {
      "application/vnd.jupyter.widget-view+json": {
       "model_id": "1f69a1da8650439da03967c6679ceae6",
       "version_major": 2,
       "version_minor": 0
      },
      "text/plain": [
       "Contours:   0%|          | 0/2 [00:00<?, ?it/s]"
      ]
     },
     "metadata": {},
     "output_type": "display_data"
    },
    {
     "data": {
      "application/vnd.jupyter.widget-view+json": {
       "model_id": "07b37782367a40bbb15e4b4cd31eaa5b",
       "version_major": 2,
       "version_minor": 0
      },
      "text/plain": [
       "Contours:   0%|          | 0/20 [00:00<?, ?it/s]"
      ]
     },
     "metadata": {},
     "output_type": "display_data"
    },
    {
     "data": {
      "application/vnd.jupyter.widget-view+json": {
       "model_id": "2c3212c4691146eabc6810e28c545ec8",
       "version_major": 2,
       "version_minor": 0
      },
      "text/plain": [
       "Contours:   0%|          | 0/7 [00:00<?, ?it/s]"
      ]
     },
     "metadata": {},
     "output_type": "display_data"
    },
    {
     "data": {
      "application/vnd.jupyter.widget-view+json": {
       "model_id": "dae5f095737e425c9264fc2f37c9cff2",
       "version_major": 2,
       "version_minor": 0
      },
      "text/plain": [
       "SRs:   0%|          | 0/3 [00:00<?, ?it/s]"
      ]
     },
     "metadata": {},
     "output_type": "display_data"
    },
    {
     "data": {
      "application/vnd.jupyter.widget-view+json": {
       "model_id": "d1d05e53800a4e8f93190f727fd691b4",
       "version_major": 2,
       "version_minor": 0
      },
      "text/plain": [
       "Contours:   0%|          | 0/1 [00:00<?, ?it/s]"
      ]
     },
     "metadata": {},
     "output_type": "display_data"
    },
    {
     "data": {
      "application/vnd.jupyter.widget-view+json": {
       "model_id": "621dfa2d0fd0431fa8078f113a3c7c55",
       "version_major": 2,
       "version_minor": 0
      },
      "text/plain": [
       "Contours:   0%|          | 0/32 [00:00<?, ?it/s]"
      ]
     },
     "metadata": {},
     "output_type": "display_data"
    },
    {
     "data": {
      "application/vnd.jupyter.widget-view+json": {
       "model_id": "57e26bab3d3548869ea45ae07d992065",
       "version_major": 2,
       "version_minor": 0
      },
      "text/plain": [
       "SRs:   0%|          | 0/7 [00:00<?, ?it/s]"
      ]
     },
     "metadata": {},
     "output_type": "display_data"
    },
    {
     "data": {
      "application/vnd.jupyter.widget-view+json": {
       "model_id": "d261f9e7286a4462ab8d3f50fa8ee501",
       "version_major": 2,
       "version_minor": 0
      },
      "text/plain": [
       "Contours:   0%|          | 0/1 [00:00<?, ?it/s]"
      ]
     },
     "metadata": {},
     "output_type": "display_data"
    },
    {
     "data": {
      "application/vnd.jupyter.widget-view+json": {
       "model_id": "eda94f92ed154b3290d3d097c6163bff",
       "version_major": 2,
       "version_minor": 0
      },
      "text/plain": [
       "Contours:   0%|          | 0/9 [00:00<?, ?it/s]"
      ]
     },
     "metadata": {},
     "output_type": "display_data"
    },
    {
     "data": {
      "application/vnd.jupyter.widget-view+json": {
       "model_id": "c4dab56fdca944cabc1fbc6a85b181c3",
       "version_major": 2,
       "version_minor": 0
      },
      "text/plain": [
       "Contours:   0%|          | 0/3 [00:00<?, ?it/s]"
      ]
     },
     "metadata": {},
     "output_type": "display_data"
    },
    {
     "data": {
      "application/vnd.jupyter.widget-view+json": {
       "model_id": "c95a1fed0981486eb19f12d3df2b4e96",
       "version_major": 2,
       "version_minor": 0
      },
      "text/plain": [
       "Contours:   0%|          | 0/20 [00:00<?, ?it/s]"
      ]
     },
     "metadata": {},
     "output_type": "display_data"
    },
    {
     "data": {
      "application/vnd.jupyter.widget-view+json": {
       "model_id": "19056fa0c0ec4d799ac92119a43bbf12",
       "version_major": 2,
       "version_minor": 0
      },
      "text/plain": [
       "SRs:   0%|          | 0/2 [00:00<?, ?it/s]"
      ]
     },
     "metadata": {},
     "output_type": "display_data"
    },
    {
     "data": {
      "application/vnd.jupyter.widget-view+json": {
       "model_id": "bdde64ec5c3c44e4ad822ab7e64cd130",
       "version_major": 2,
       "version_minor": 0
      },
      "text/plain": [
       "Contours:   0%|          | 0/7 [00:00<?, ?it/s]"
      ]
     },
     "metadata": {},
     "output_type": "display_data"
    },
    {
     "data": {
      "application/vnd.jupyter.widget-view+json": {
       "model_id": "6a33308d1eab4391991142085253a0ae",
       "version_major": 2,
       "version_minor": 0
      },
      "text/plain": [
       "SRs:   0%|          | 0/5 [00:00<?, ?it/s]"
      ]
     },
     "metadata": {},
     "output_type": "display_data"
    },
    {
     "data": {
      "application/vnd.jupyter.widget-view+json": {
       "model_id": "c6eff2b911d74e0299122aaeb6817d9d",
       "version_major": 2,
       "version_minor": 0
      },
      "text/plain": [
       "Contours:   0%|          | 0/6 [00:00<?, ?it/s]"
      ]
     },
     "metadata": {},
     "output_type": "display_data"
    },
    {
     "data": {
      "application/vnd.jupyter.widget-view+json": {
       "model_id": "96675f9e851b4638a075cfea923a67a1",
       "version_major": 2,
       "version_minor": 0
      },
      "text/plain": [
       "Contours:   0%|          | 0/14 [00:00<?, ?it/s]"
      ]
     },
     "metadata": {},
     "output_type": "display_data"
    },
    {
     "data": {
      "application/vnd.jupyter.widget-view+json": {
       "model_id": "e179b57bc2b44c698cb0a5b84dd934d0",
       "version_major": 2,
       "version_minor": 0
      },
      "text/plain": [
       "Contours:   0%|          | 0/6 [00:00<?, ?it/s]"
      ]
     },
     "metadata": {},
     "output_type": "display_data"
    },
    {
     "data": {
      "application/vnd.jupyter.widget-view+json": {
       "model_id": "728bb55118dc4fe5862cc228e5014d91",
       "version_major": 2,
       "version_minor": 0
      },
      "text/plain": [
       "Contours:   0%|          | 0/2 [00:00<?, ?it/s]"
      ]
     },
     "metadata": {},
     "output_type": "display_data"
    },
    {
     "data": {
      "application/vnd.jupyter.widget-view+json": {
       "model_id": "85b4fd3b21b048729bcd3aae3970cabf",
       "version_major": 2,
       "version_minor": 0
      },
      "text/plain": [
       "SRs:   0%|          | 0/3 [00:00<?, ?it/s]"
      ]
     },
     "metadata": {},
     "output_type": "display_data"
    },
    {
     "data": {
      "application/vnd.jupyter.widget-view+json": {
       "model_id": "238df606c4d8475486f72d0f48b8abc5",
       "version_major": 2,
       "version_minor": 0
      },
      "text/plain": [
       "Contours:   0%|          | 0/3 [00:00<?, ?it/s]"
      ]
     },
     "metadata": {},
     "output_type": "display_data"
    },
    {
     "data": {
      "application/vnd.jupyter.widget-view+json": {
       "model_id": "d8ca357a64e5421eac898d789d8d5c33",
       "version_major": 2,
       "version_minor": 0
      },
      "text/plain": [
       "Contours:   0%|          | 0/2 [00:00<?, ?it/s]"
      ]
     },
     "metadata": {},
     "output_type": "display_data"
    },
    {
     "data": {
      "application/vnd.jupyter.widget-view+json": {
       "model_id": "69a1f87fe78543689b42d99909e34ec7",
       "version_major": 2,
       "version_minor": 0
      },
      "text/plain": [
       "SRs:   0%|          | 0/8 [00:00<?, ?it/s]"
      ]
     },
     "metadata": {},
     "output_type": "display_data"
    },
    {
     "data": {
      "application/vnd.jupyter.widget-view+json": {
       "model_id": "1ef274b71f3c43e780a99d1f77e6347c",
       "version_major": 2,
       "version_minor": 0
      },
      "text/plain": [
       "Contours:   0%|          | 0/29 [00:00<?, ?it/s]"
      ]
     },
     "metadata": {},
     "output_type": "display_data"
    },
    {
     "data": {
      "application/vnd.jupyter.widget-view+json": {
       "model_id": "9690be0d76484c809b0b2da7da2114e6",
       "version_major": 2,
       "version_minor": 0
      },
      "text/plain": [
       "Contours:   0%|          | 0/4 [00:00<?, ?it/s]"
      ]
     },
     "metadata": {},
     "output_type": "display_data"
    },
    {
     "data": {
      "application/vnd.jupyter.widget-view+json": {
       "model_id": "79afd31618ee4566baba0a6d5eb75381",
       "version_major": 2,
       "version_minor": 0
      },
      "text/plain": [
       "Contours:   0%|          | 0/6 [00:00<?, ?it/s]"
      ]
     },
     "metadata": {},
     "output_type": "display_data"
    },
    {
     "data": {
      "application/vnd.jupyter.widget-view+json": {
       "model_id": "c2736075b17d468ea2b9bfc2d60e7cbb",
       "version_major": 2,
       "version_minor": 0
      },
      "text/plain": [
       "Contours:   0%|          | 0/18 [00:00<?, ?it/s]"
      ]
     },
     "metadata": {},
     "output_type": "display_data"
    },
    {
     "data": {
      "application/vnd.jupyter.widget-view+json": {
       "model_id": "6554fb9610f24fd082006b8efe8c8903",
       "version_major": 2,
       "version_minor": 0
      },
      "text/plain": [
       "Contours:   0%|          | 0/7 [00:00<?, ?it/s]"
      ]
     },
     "metadata": {},
     "output_type": "display_data"
    },
    {
     "data": {
      "application/vnd.jupyter.widget-view+json": {
       "model_id": "8db5c6636c4e4819bed13c038da5ec2f",
       "version_major": 2,
       "version_minor": 0
      },
      "text/plain": [
       "Contours:   0%|          | 0/3 [00:00<?, ?it/s]"
      ]
     },
     "metadata": {},
     "output_type": "display_data"
    },
    {
     "data": {
      "application/vnd.jupyter.widget-view+json": {
       "model_id": "10cb159f1e1e407f9807cbbd61ad1e1f",
       "version_major": 2,
       "version_minor": 0
      },
      "text/plain": [
       "Contours:   0%|          | 0/7 [00:00<?, ?it/s]"
      ]
     },
     "metadata": {},
     "output_type": "display_data"
    },
    {
     "data": {
      "application/vnd.jupyter.widget-view+json": {
       "model_id": "5c92f71879af4c308f1ff3a7ffbeeea7",
       "version_major": 2,
       "version_minor": 0
      },
      "text/plain": [
       "SRs:   0%|          | 0/2 [00:00<?, ?it/s]"
      ]
     },
     "metadata": {},
     "output_type": "display_data"
    },
    {
     "data": {
      "application/vnd.jupyter.widget-view+json": {
       "model_id": "034521c6450c4389be3335b46e7d4f67",
       "version_major": 2,
       "version_minor": 0
      },
      "text/plain": [
       "Contours:   0%|          | 0/3 [00:00<?, ?it/s]"
      ]
     },
     "metadata": {},
     "output_type": "display_data"
    },
    {
     "data": {
      "application/vnd.jupyter.widget-view+json": {
       "model_id": "7876f9b6e4844b1a934c1c5b5154e230",
       "version_major": 2,
       "version_minor": 0
      },
      "text/plain": [
       "Contours:   0%|          | 0/5 [00:00<?, ?it/s]"
      ]
     },
     "metadata": {},
     "output_type": "display_data"
    },
    {
     "data": {
      "application/vnd.jupyter.widget-view+json": {
       "model_id": "dffd9839c49642bb985e343db3312fc7",
       "version_major": 2,
       "version_minor": 0
      },
      "text/plain": [
       "SRs:   0%|          | 0/5 [00:00<?, ?it/s]"
      ]
     },
     "metadata": {},
     "output_type": "display_data"
    },
    {
     "data": {
      "application/vnd.jupyter.widget-view+json": {
       "model_id": "6888a3de7ac4421d8c61aca16cd9409a",
       "version_major": 2,
       "version_minor": 0
      },
      "text/plain": [
       "Contours:   0%|          | 0/1 [00:00<?, ?it/s]"
      ]
     },
     "metadata": {},
     "output_type": "display_data"
    },
    {
     "data": {
      "application/vnd.jupyter.widget-view+json": {
       "model_id": "bdedc24b772a4c479da092a0ce4f3ec8",
       "version_major": 2,
       "version_minor": 0
      },
      "text/plain": [
       "Contours:   0%|          | 0/11 [00:00<?, ?it/s]"
      ]
     },
     "metadata": {},
     "output_type": "display_data"
    },
    {
     "data": {
      "application/vnd.jupyter.widget-view+json": {
       "model_id": "7311874ed8fe4753adcc9d46b6fd4d80",
       "version_major": 2,
       "version_minor": 0
      },
      "text/plain": [
       "Contours:   0%|          | 0/2 [00:00<?, ?it/s]"
      ]
     },
     "metadata": {},
     "output_type": "display_data"
    },
    {
     "data": {
      "application/vnd.jupyter.widget-view+json": {
       "model_id": "9386fdc96b764d738f35820bccde97ec",
       "version_major": 2,
       "version_minor": 0
      },
      "text/plain": [
       "Contours:   0%|          | 0/9 [00:00<?, ?it/s]"
      ]
     },
     "metadata": {},
     "output_type": "display_data"
    },
    {
     "data": {
      "application/vnd.jupyter.widget-view+json": {
       "model_id": "b65117a065524508a3b60133499d6cdd",
       "version_major": 2,
       "version_minor": 0
      },
      "text/plain": [
       "SRs:   0%|          | 0/5 [00:00<?, ?it/s]"
      ]
     },
     "metadata": {},
     "output_type": "display_data"
    },
    {
     "data": {
      "application/vnd.jupyter.widget-view+json": {
       "model_id": "070674264a644375baca42131cfc3003",
       "version_major": 2,
       "version_minor": 0
      },
      "text/plain": [
       "Contours:   0%|          | 0/1 [00:00<?, ?it/s]"
      ]
     },
     "metadata": {},
     "output_type": "display_data"
    },
    {
     "data": {
      "application/vnd.jupyter.widget-view+json": {
       "model_id": "417fbf4d946c454c8bbce6e604082e3e",
       "version_major": 2,
       "version_minor": 0
      },
      "text/plain": [
       "Contours:   0%|          | 0/4 [00:00<?, ?it/s]"
      ]
     },
     "metadata": {},
     "output_type": "display_data"
    },
    {
     "data": {
      "application/vnd.jupyter.widget-view+json": {
       "model_id": "19d6b0ce4e1f42cb85f6682cf4e99cf4",
       "version_major": 2,
       "version_minor": 0
      },
      "text/plain": [
       "SRs:   0%|          | 0/5 [00:00<?, ?it/s]"
      ]
     },
     "metadata": {},
     "output_type": "display_data"
    },
    {
     "data": {
      "application/vnd.jupyter.widget-view+json": {
       "model_id": "5574b8df432f493ea8f775f008c0a3f4",
       "version_major": 2,
       "version_minor": 0
      },
      "text/plain": [
       "Contours:   0%|          | 0/5 [00:00<?, ?it/s]"
      ]
     },
     "metadata": {},
     "output_type": "display_data"
    },
    {
     "data": {
      "application/vnd.jupyter.widget-view+json": {
       "model_id": "4f2853c0983a4beca32ecc44de455949",
       "version_major": 2,
       "version_minor": 0
      },
      "text/plain": [
       "Contours:   0%|          | 0/12 [00:00<?, ?it/s]"
      ]
     },
     "metadata": {},
     "output_type": "display_data"
    },
    {
     "data": {
      "application/vnd.jupyter.widget-view+json": {
       "model_id": "cbbb9aa1d1a146e9917aea1c3e0d3cae",
       "version_major": 2,
       "version_minor": 0
      },
      "text/plain": [
       "Contours:   0%|          | 0/4 [00:00<?, ?it/s]"
      ]
     },
     "metadata": {},
     "output_type": "display_data"
    },
    {
     "data": {
      "application/vnd.jupyter.widget-view+json": {
       "model_id": "b72ce2c389ca44538decf53e9a7aef6f",
       "version_major": 2,
       "version_minor": 0
      },
      "text/plain": [
       "SRs:   0%|          | 0/8 [00:00<?, ?it/s]"
      ]
     },
     "metadata": {},
     "output_type": "display_data"
    },
    {
     "data": {
      "application/vnd.jupyter.widget-view+json": {
       "model_id": "a0077220ba8b40e5ba88ae01c8cc708d",
       "version_major": 2,
       "version_minor": 0
      },
      "text/plain": [
       "Contours:   0%|          | 0/1 [00:00<?, ?it/s]"
      ]
     },
     "metadata": {},
     "output_type": "display_data"
    },
    {
     "data": {
      "application/vnd.jupyter.widget-view+json": {
       "model_id": "b2ebc9ca57694beba406d69303194d15",
       "version_major": 2,
       "version_minor": 0
      },
      "text/plain": [
       "Contours:   0%|          | 0/25 [00:00<?, ?it/s]"
      ]
     },
     "metadata": {},
     "output_type": "display_data"
    },
    {
     "data": {
      "application/vnd.jupyter.widget-view+json": {
       "model_id": "24ca6ea6205046689ea21eaf8d67c428",
       "version_major": 2,
       "version_minor": 0
      },
      "text/plain": [
       "Contours:   0%|          | 0/6 [00:00<?, ?it/s]"
      ]
     },
     "metadata": {},
     "output_type": "display_data"
    },
    {
     "data": {
      "application/vnd.jupyter.widget-view+json": {
       "model_id": "74456854e8f24bc7b07a41c765e6227a",
       "version_major": 2,
       "version_minor": 0
      },
      "text/plain": [
       "SRs:   0%|          | 0/7 [00:00<?, ?it/s]"
      ]
     },
     "metadata": {},
     "output_type": "display_data"
    },
    {
     "data": {
      "application/vnd.jupyter.widget-view+json": {
       "model_id": "c4a47ea099344ddbad5e4722bf52a4a9",
       "version_major": 2,
       "version_minor": 0
      },
      "text/plain": [
       "Contours:   0%|          | 0/38 [00:00<?, ?it/s]"
      ]
     },
     "metadata": {},
     "output_type": "display_data"
    },
    {
     "data": {
      "application/vnd.jupyter.widget-view+json": {
       "model_id": "ea761603757c48a28173336b09a42166",
       "version_major": 2,
       "version_minor": 0
      },
      "text/plain": [
       "Contours:   0%|          | 0/12 [00:00<?, ?it/s]"
      ]
     },
     "metadata": {},
     "output_type": "display_data"
    },
    {
     "data": {
      "application/vnd.jupyter.widget-view+json": {
       "model_id": "44a40b574c934f46a6c8687f5e40e1d4",
       "version_major": 2,
       "version_minor": 0
      },
      "text/plain": [
       "SRs:   0%|          | 0/4 [00:00<?, ?it/s]"
      ]
     },
     "metadata": {},
     "output_type": "display_data"
    },
    {
     "data": {
      "application/vnd.jupyter.widget-view+json": {
       "model_id": "c204f7e8a4034de5a512cf9871f2df44",
       "version_major": 2,
       "version_minor": 0
      },
      "text/plain": [
       "Contours:   0%|          | 0/10 [00:00<?, ?it/s]"
      ]
     },
     "metadata": {},
     "output_type": "display_data"
    },
    {
     "data": {
      "application/vnd.jupyter.widget-view+json": {
       "model_id": "71afcb03989046ff8f8f87ade95a23b8",
       "version_major": 2,
       "version_minor": 0
      },
      "text/plain": [
       "Contours:   0%|          | 0/6 [00:00<?, ?it/s]"
      ]
     },
     "metadata": {},
     "output_type": "display_data"
    },
    {
     "data": {
      "application/vnd.jupyter.widget-view+json": {
       "model_id": "fe67fe3b9e78415c8c2b5ce8ac2a9a7f",
       "version_major": 2,
       "version_minor": 0
      },
      "text/plain": [
       "SRs:   0%|          | 0/2 [00:00<?, ?it/s]"
      ]
     },
     "metadata": {},
     "output_type": "display_data"
    },
    {
     "data": {
      "application/vnd.jupyter.widget-view+json": {
       "model_id": "0f9d3daec09f4fc492d32f268cf92d5a",
       "version_major": 2,
       "version_minor": 0
      },
      "text/plain": [
       "Contours:   0%|          | 0/3 [00:00<?, ?it/s]"
      ]
     },
     "metadata": {},
     "output_type": "display_data"
    },
    {
     "data": {
      "application/vnd.jupyter.widget-view+json": {
       "model_id": "c674c5a1fdd444478c64732e38415cb7",
       "version_major": 2,
       "version_minor": 0
      },
      "text/plain": [
       "SRs:   0%|          | 0/2 [00:00<?, ?it/s]"
      ]
     },
     "metadata": {},
     "output_type": "display_data"
    },
    {
     "data": {
      "application/vnd.jupyter.widget-view+json": {
       "model_id": "68b7a9049494487994507004f20ac255",
       "version_major": 2,
       "version_minor": 0
      },
      "text/plain": [
       "SRs:   0%|          | 0/4 [00:00<?, ?it/s]"
      ]
     },
     "metadata": {},
     "output_type": "display_data"
    },
    {
     "data": {
      "application/vnd.jupyter.widget-view+json": {
       "model_id": "4f0bd5e6a02748c2bb5e201957ab529a",
       "version_major": 2,
       "version_minor": 0
      },
      "text/plain": [
       "Contours:   0%|          | 0/49 [00:00<?, ?it/s]"
      ]
     },
     "metadata": {},
     "output_type": "display_data"
    },
    {
     "data": {
      "application/vnd.jupyter.widget-view+json": {
       "model_id": "9904cfe59ae94bb8b3b2e6a573bc016f",
       "version_major": 2,
       "version_minor": 0
      },
      "text/plain": [
       "SRs:   0%|          | 0/4 [00:00<?, ?it/s]"
      ]
     },
     "metadata": {},
     "output_type": "display_data"
    },
    {
     "data": {
      "application/vnd.jupyter.widget-view+json": {
       "model_id": "ea219c51ed3847c9a193e51a3b75de23",
       "version_major": 2,
       "version_minor": 0
      },
      "text/plain": [
       "Contours:   0%|          | 0/15 [00:00<?, ?it/s]"
      ]
     },
     "metadata": {},
     "output_type": "display_data"
    },
    {
     "data": {
      "application/vnd.jupyter.widget-view+json": {
       "model_id": "69194208a47e40f78c063edd17f8f0bf",
       "version_major": 2,
       "version_minor": 0
      },
      "text/plain": [
       "SRs:   0%|          | 0/2 [00:00<?, ?it/s]"
      ]
     },
     "metadata": {},
     "output_type": "display_data"
    },
    {
     "data": {
      "application/vnd.jupyter.widget-view+json": {
       "model_id": "d3232f88e89744c5979394e62be0ab25",
       "version_major": 2,
       "version_minor": 0
      },
      "text/plain": [
       "Contours:   0%|          | 0/1 [00:00<?, ?it/s]"
      ]
     },
     "metadata": {},
     "output_type": "display_data"
    },
    {
     "data": {
      "application/vnd.jupyter.widget-view+json": {
       "model_id": "6548555b20724f0281f6e87f809c4092",
       "version_major": 2,
       "version_minor": 0
      },
      "text/plain": [
       "SRs:   0%|          | 0/7 [00:00<?, ?it/s]"
      ]
     },
     "metadata": {},
     "output_type": "display_data"
    },
    {
     "data": {
      "application/vnd.jupyter.widget-view+json": {
       "model_id": "44a1245b8426490f9230616d91571ff5",
       "version_major": 2,
       "version_minor": 0
      },
      "text/plain": [
       "Contours:   0%|          | 0/1 [00:00<?, ?it/s]"
      ]
     },
     "metadata": {},
     "output_type": "display_data"
    },
    {
     "data": {
      "application/vnd.jupyter.widget-view+json": {
       "model_id": "4689d527b38145bda79aa8abc064b271",
       "version_major": 2,
       "version_minor": 0
      },
      "text/plain": [
       "Contours:   0%|          | 0/9 [00:00<?, ?it/s]"
      ]
     },
     "metadata": {},
     "output_type": "display_data"
    },
    {
     "data": {
      "application/vnd.jupyter.widget-view+json": {
       "model_id": "e9eb7a008d3940ac83f9155914f8270e",
       "version_major": 2,
       "version_minor": 0
      },
      "text/plain": [
       "Contours:   0%|          | 0/3 [00:00<?, ?it/s]"
      ]
     },
     "metadata": {},
     "output_type": "display_data"
    },
    {
     "data": {
      "application/vnd.jupyter.widget-view+json": {
       "model_id": "a49e9cedc4c143499f978e2566664f3f",
       "version_major": 2,
       "version_minor": 0
      },
      "text/plain": [
       "SRs:   0%|          | 0/21 [00:00<?, ?it/s]"
      ]
     },
     "metadata": {},
     "output_type": "display_data"
    },
    {
     "data": {
      "application/vnd.jupyter.widget-view+json": {
       "model_id": "54500299b4454a9fb9ea346c970f326f",
       "version_major": 2,
       "version_minor": 0
      },
      "text/plain": [
       "Contours:   0%|          | 0/1 [00:00<?, ?it/s]"
      ]
     },
     "metadata": {},
     "output_type": "display_data"
    },
    {
     "data": {
      "application/vnd.jupyter.widget-view+json": {
       "model_id": "f2f24a9db6824e388cc9a85dae462a1a",
       "version_major": 2,
       "version_minor": 0
      },
      "text/plain": [
       "Contours:   0%|          | 0/4 [00:00<?, ?it/s]"
      ]
     },
     "metadata": {},
     "output_type": "display_data"
    },
    {
     "data": {
      "application/vnd.jupyter.widget-view+json": {
       "model_id": "d8dad1ea4cd3429f954323b666c2ca60",
       "version_major": 2,
       "version_minor": 0
      },
      "text/plain": [
       "Contours:   0%|          | 0/6 [00:00<?, ?it/s]"
      ]
     },
     "metadata": {},
     "output_type": "display_data"
    },
    {
     "data": {
      "application/vnd.jupyter.widget-view+json": {
       "model_id": "01695e59b3da40459817d71945eec0e9",
       "version_major": 2,
       "version_minor": 0
      },
      "text/plain": [
       "SRs:   0%|          | 0/6 [00:00<?, ?it/s]"
      ]
     },
     "metadata": {},
     "output_type": "display_data"
    },
    {
     "data": {
      "application/vnd.jupyter.widget-view+json": {
       "model_id": "4c5a132123214eec838a8a0cfca04bef",
       "version_major": 2,
       "version_minor": 0
      },
      "text/plain": [
       "Contours:   0%|          | 0/5 [00:00<?, ?it/s]"
      ]
     },
     "metadata": {},
     "output_type": "display_data"
    },
    {
     "data": {
      "application/vnd.jupyter.widget-view+json": {
       "model_id": "75f0121db31541c1a77ff7cf80557830",
       "version_major": 2,
       "version_minor": 0
      },
      "text/plain": [
       "SRs:   0%|          | 0/5 [00:00<?, ?it/s]"
      ]
     },
     "metadata": {},
     "output_type": "display_data"
    },
    {
     "data": {
      "application/vnd.jupyter.widget-view+json": {
       "model_id": "95f5237be5c54e17b6f7b117ddaadb49",
       "version_major": 2,
       "version_minor": 0
      },
      "text/plain": [
       "Contours:   0%|          | 0/2 [00:00<?, ?it/s]"
      ]
     },
     "metadata": {},
     "output_type": "display_data"
    },
    {
     "data": {
      "application/vnd.jupyter.widget-view+json": {
       "model_id": "2bccb4ab683e4f968fba7baf069fcb92",
       "version_major": 2,
       "version_minor": 0
      },
      "text/plain": [
       "Contours:   0%|          | 0/12 [00:00<?, ?it/s]"
      ]
     },
     "metadata": {},
     "output_type": "display_data"
    },
    {
     "data": {
      "application/vnd.jupyter.widget-view+json": {
       "model_id": "6a10cb19c6ae4c768703a2049bfadf08",
       "version_major": 2,
       "version_minor": 0
      },
      "text/plain": [
       "Contours:   0%|          | 0/29 [00:00<?, ?it/s]"
      ]
     },
     "metadata": {},
     "output_type": "display_data"
    },
    {
     "data": {
      "application/vnd.jupyter.widget-view+json": {
       "model_id": "5abafd86bc994268b5c33dec64909078",
       "version_major": 2,
       "version_minor": 0
      },
      "text/plain": [
       "SRs:   0%|          | 0/8 [00:00<?, ?it/s]"
      ]
     },
     "metadata": {},
     "output_type": "display_data"
    },
    {
     "data": {
      "application/vnd.jupyter.widget-view+json": {
       "model_id": "3a6a2b1c188c4d66aaa94a79e3ed103d",
       "version_major": 2,
       "version_minor": 0
      },
      "text/plain": [
       "Contours:   0%|          | 0/2 [00:00<?, ?it/s]"
      ]
     },
     "metadata": {},
     "output_type": "display_data"
    },
    {
     "data": {
      "application/vnd.jupyter.widget-view+json": {
       "model_id": "ad3719f7734946f381981108fbb7b2e6",
       "version_major": 2,
       "version_minor": 0
      },
      "text/plain": [
       "Contours:   0%|          | 0/15 [00:00<?, ?it/s]"
      ]
     },
     "metadata": {},
     "output_type": "display_data"
    },
    {
     "data": {
      "application/vnd.jupyter.widget-view+json": {
       "model_id": "752545034f8540978e609f7209145ae5",
       "version_major": 2,
       "version_minor": 0
      },
      "text/plain": [
       "SRs:   0%|          | 0/4 [00:00<?, ?it/s]"
      ]
     },
     "metadata": {},
     "output_type": "display_data"
    },
    {
     "data": {
      "application/vnd.jupyter.widget-view+json": {
       "model_id": "ab81933f1ab640f2bf1f14f711098a6a",
       "version_major": 2,
       "version_minor": 0
      },
      "text/plain": [
       "Contours:   0%|          | 0/1 [00:00<?, ?it/s]"
      ]
     },
     "metadata": {},
     "output_type": "display_data"
    },
    {
     "data": {
      "application/vnd.jupyter.widget-view+json": {
       "model_id": "f92ac4b097464ec5960f431ddc4fc2f0",
       "version_major": 2,
       "version_minor": 0
      },
      "text/plain": [
       "Contours:   0%|          | 0/7 [00:00<?, ?it/s]"
      ]
     },
     "metadata": {},
     "output_type": "display_data"
    },
    {
     "data": {
      "application/vnd.jupyter.widget-view+json": {
       "model_id": "4b78962a48ea4862b570c9d0a01a5910",
       "version_major": 2,
       "version_minor": 0
      },
      "text/plain": [
       "Contours:   0%|          | 0/3 [00:00<?, ?it/s]"
      ]
     },
     "metadata": {},
     "output_type": "display_data"
    },
    {
     "data": {
      "application/vnd.jupyter.widget-view+json": {
       "model_id": "468787b98cae4d37b9be3c43e98ab000",
       "version_major": 2,
       "version_minor": 0
      },
      "text/plain": [
       "SRs:   0%|          | 0/5 [00:00<?, ?it/s]"
      ]
     },
     "metadata": {},
     "output_type": "display_data"
    },
    {
     "data": {
      "application/vnd.jupyter.widget-view+json": {
       "model_id": "b455b593943d48c194dd19613bd13855",
       "version_major": 2,
       "version_minor": 0
      },
      "text/plain": [
       "Contours:   0%|          | 0/1 [00:00<?, ?it/s]"
      ]
     },
     "metadata": {},
     "output_type": "display_data"
    },
    {
     "data": {
      "application/vnd.jupyter.widget-view+json": {
       "model_id": "19195bcfd72244759c84ae13a15292e7",
       "version_major": 2,
       "version_minor": 0
      },
      "text/plain": [
       "Contours:   0%|          | 0/3 [00:00<?, ?it/s]"
      ]
     },
     "metadata": {},
     "output_type": "display_data"
    },
    {
     "data": {
      "application/vnd.jupyter.widget-view+json": {
       "model_id": "5b9456b3f2f342a98aa75e5c3bb8d71d",
       "version_major": 2,
       "version_minor": 0
      },
      "text/plain": [
       "SRs:   0%|          | 0/4 [00:00<?, ?it/s]"
      ]
     },
     "metadata": {},
     "output_type": "display_data"
    },
    {
     "data": {
      "application/vnd.jupyter.widget-view+json": {
       "model_id": "f45a2be98ee54dc6807b1138ca9d97ff",
       "version_major": 2,
       "version_minor": 0
      },
      "text/plain": [
       "Contours:   0%|          | 0/20 [00:00<?, ?it/s]"
      ]
     },
     "metadata": {},
     "output_type": "display_data"
    },
    {
     "data": {
      "application/vnd.jupyter.widget-view+json": {
       "model_id": "ea5229b5a98e468a9509302ba2a3cc0b",
       "version_major": 2,
       "version_minor": 0
      },
      "text/plain": [
       "SRs:   0%|          | 0/1 [00:00<?, ?it/s]"
      ]
     },
     "metadata": {},
     "output_type": "display_data"
    },
    {
     "data": {
      "application/vnd.jupyter.widget-view+json": {
       "model_id": "cb545a66d0e94ad59c1acb7b454b7c18",
       "version_major": 2,
       "version_minor": 0
      },
      "text/plain": [
       "Contours:   0%|          | 0/2 [00:00<?, ?it/s]"
      ]
     },
     "metadata": {},
     "output_type": "display_data"
    },
    {
     "data": {
      "application/vnd.jupyter.widget-view+json": {
       "model_id": "aec8241cbcf642bd9dec33ab94390f7a",
       "version_major": 2,
       "version_minor": 0
      },
      "text/plain": [
       "SRs:   0%|          | 0/3 [00:00<?, ?it/s]"
      ]
     },
     "metadata": {},
     "output_type": "display_data"
    },
    {
     "data": {
      "application/vnd.jupyter.widget-view+json": {
       "model_id": "d38b92cdb4d04544876c59ff743c534c",
       "version_major": 2,
       "version_minor": 0
      },
      "text/plain": [
       "Contours:   0%|          | 0/1 [00:00<?, ?it/s]"
      ]
     },
     "metadata": {},
     "output_type": "display_data"
    },
    {
     "data": {
      "application/vnd.jupyter.widget-view+json": {
       "model_id": "327a6c05cd934a509d028181b80b1070",
       "version_major": 2,
       "version_minor": 0
      },
      "text/plain": [
       "Contours:   0%|          | 0/15 [00:00<?, ?it/s]"
      ]
     },
     "metadata": {},
     "output_type": "display_data"
    },
    {
     "data": {
      "application/vnd.jupyter.widget-view+json": {
       "model_id": "381e34e8d4964985945275b1298e971c",
       "version_major": 2,
       "version_minor": 0
      },
      "text/plain": [
       "SRs:   0%|          | 0/3 [00:00<?, ?it/s]"
      ]
     },
     "metadata": {},
     "output_type": "display_data"
    },
    {
     "data": {
      "application/vnd.jupyter.widget-view+json": {
       "model_id": "3968a3e20e624669b8519f18b55fcb0e",
       "version_major": 2,
       "version_minor": 0
      },
      "text/plain": [
       "Contours:   0%|          | 0/38 [00:00<?, ?it/s]"
      ]
     },
     "metadata": {},
     "output_type": "display_data"
    },
    {
     "data": {
      "application/vnd.jupyter.widget-view+json": {
       "model_id": "38b6e788051a4e3a95c9a588745027df",
       "version_major": 2,
       "version_minor": 0
      },
      "text/plain": [
       "SRs:   0%|          | 0/2 [00:00<?, ?it/s]"
      ]
     },
     "metadata": {},
     "output_type": "display_data"
    },
    {
     "data": {
      "application/vnd.jupyter.widget-view+json": {
       "model_id": "cb21270b76034631b66daff626920f30",
       "version_major": 2,
       "version_minor": 0
      },
      "text/plain": [
       "Contours:   0%|          | 0/1 [00:00<?, ?it/s]"
      ]
     },
     "metadata": {},
     "output_type": "display_data"
    }
   ],
   "source": [
    "tracks_new = []\n",
    "sr_geoms_all = []\n",
    "\n",
    "# kde for each sr\n",
    "offset = 1000\n",
    "min_sample_n = 50\n",
    "cell_size = 75\n",
    "bandwidth = 100\n",
    "kde_percentile = 0.95\n",
    "kde_reduction = True\n",
    "\n",
    "for gdf in log_progress(tracks):\n",
    "    track_new, sr_geoms = cluster_track(gdf, min_sample_n, offset, cell_size, bandwidth, kde_percentile, kde_reduction)\n",
    "    sr_geoms = sr_geoms.geometry # besser in cluster track lösen\n",
    "    tracks_new.append(track_new)\n",
    "    sr_geoms_all.append(sr_geoms)\n",
    "tracks = tracks_new"
   ]
  },
  {
   "cell_type": "markdown",
   "metadata": {},
   "source": [
    "## geometrical features of srs"
   ]
  },
  {
   "cell_type": "code",
   "execution_count": 6,
   "metadata": {},
   "outputs": [
    {
     "data": {
      "application/vnd.jupyter.widget-view+json": {
       "model_id": "cd9589caef21497580e5f82bea985d08",
       "version_major": 2,
       "version_minor": 0
      },
      "text/plain": [
       "Geometric properties:   0%|          | 0/64 [00:00<?, ?it/s]"
      ]
     },
     "metadata": {},
     "output_type": "display_data"
    }
   ],
   "source": [
    "sr_geom_features_all = []\n",
    "for sr_geoms in log_progress(sr_geoms_all, desc=\"Geometric properties\"):\n",
    "    sr_geom_features = pd.DataFrame({(\"area\",\"\"):sr_geoms.geometry.area})\n",
    "    sr_geom_features_all.append(sr_geom_features)"
   ]
  },
  {
   "cell_type": "markdown",
   "metadata": {},
   "source": [
    "## time features for srs"
   ]
  },
  {
   "cell_type": "code",
   "execution_count": 7,
   "metadata": {},
   "outputs": [
    {
     "data": {
      "application/vnd.jupyter.widget-view+json": {
       "model_id": "f51132e9498649f481a23444dd740811",
       "version_major": 2,
       "version_minor": 0
      },
      "text/plain": [
       "Time features:   0%|          | 0/64 [00:00<?, ?it/s]"
      ]
     },
     "metadata": {},
     "output_type": "display_data"
    }
   ],
   "source": [
    "sr_params_all = []\n",
    "for gdf in log_progress(tracks, desc=\"Time features\"):\n",
    "    sr_params = gdf.reset_index(\"datetime\"\n",
    "                             ).groupby(\"cluster\"\n",
    "                                       ).agg({'dur': 'sum', 'datetime': ['min', 'max']}\n",
    "                                             )\n",
    "    # sr_params.columns = [f\"{c[0]}_{c[1]}\" for c in sr_params.columns]\n",
    "    sr_params_all.append(sr_params)"
   ]
  },
  {
   "cell_type": "markdown",
   "metadata": {},
   "source": [
    "## land cover features of srs"
   ]
  },
  {
   "cell_type": "code",
   "execution_count": 8,
   "metadata": {},
   "outputs": [
    {
     "data": {
      "application/vnd.jupyter.widget-view+json": {
       "model_id": "65bd23462f314cc8871155b401c5344c",
       "version_major": 2,
       "version_minor": 0
      },
      "text/plain": [
       "Zonal stats:   0%|          | 0/64 [00:00<?, ?it/s]"
      ]
     },
     "metadata": {},
     "output_type": "display_data"
    }
   ],
   "source": [
    "sr_zs_all = []\n",
    "\n",
    "clc_crs = rasterio.open(config[\"CLC\"][\"path\"]).crs\n",
    "clc_legend = pd.read_csv(config[\"CLC\"][\"legend_path\"],header=None)\n",
    "clc_cls = clc_legend.iloc[:,5]\n",
    "clc_values = [*range(1,45),48]\n",
    "clc_key = {key: value for key, value in zip(clc_values, clc_cls)}\n",
    "\n",
    "for sr_geoms in log_progress(sr_geoms_all, desc=\"Zonal stats\"):\n",
    "    sr_zs = zonal_stats_for_raster(sr_geoms,\n",
    "                                config[\"CLC\"][\"path\"],\n",
    "                                clc_cls,\n",
    "                                clc_crs,\n",
    "                                clc_key)\n",
    "    sr_zs.columns = pd.MultiIndex.from_product([sr_zs.columns, [\"part\"]])\n",
    "    sr_zs_all.append(sr_zs)"
   ]
  },
  {
   "cell_type": "code",
   "execution_count": 12,
   "metadata": {},
   "outputs": [],
   "source": [
    "import geopandas as gpd\n",
    "import rasterio\n",
    "import pandas as pd\n",
    "from shapely import GeometryCollection, LineString, MultiLineString, Polygon\n",
    "from shapelysmooth import taubin_smooth\n",
    "from rasterio.features import shapes\n",
    "from rasterio.mask import mask\n",
    "from shapely.ops import linemerge\n",
    "\n",
    "\n",
    "\n",
    "def get_ecotones(regions,exact=False):\n",
    "    cls_land_cover = {10: \"Tree cover\", 20: \"Shrubland\", 30: \"Grassland\", 40: \"Cropland\", 50: \"Built-up\", 60: \"Bare / sparse vegetation\", 70: \"Snow and Ice\", 80: \"Permanent water bodies\", 90:\"Herbaceous wetland\", 100:\"Moss and lichen\"}\n",
    "    land_cover_path = \"C:/Users/Tobi/Documents/BFNME Lokal/Buzzard qgis/word land cover 2021 v2/ESA_WorldCover_10m_2021_v200_Map.tif\"\n",
    "    land_cover = rasterio.open(land_cover_path)\n",
    "    regions = regions.to_crs(\"EPSG:4326\")\n",
    "    mask_array,mask_transform = mask(land_cover,regions, crop=True, filled=False)\n",
    "\n",
    "    polygons = []\n",
    "    categories = []\n",
    "    origins = []\n",
    "    for shape, value in shapes(mask_array,transform=mask_transform,connectivity=4):\n",
    "        polygon = Polygon(shape[\"coordinates\"][0], shape[\"coordinates\"][1:])\n",
    "        category = cls_land_cover[value]\n",
    "        origin = regions.index[regions.intersects(polygon)][0] # statt der 0 vllt noch ne schönere Lösung finden\n",
    "        polygons.append(polygon)\n",
    "        categories.append(category)\n",
    "        origins.append(origin)\n",
    "    s = gpd.GeoDataFrame({\"geometry\":polygons,\n",
    "                        \"value\":categories,\n",
    "                        \"origin\":origins},\n",
    "                        crs=land_cover.crs)\n",
    "    borders = []\n",
    "    for origin in s.origin.unique():\n",
    "        s_sub = s[s.origin == origin]\n",
    "        for i, poly1 in s_sub.iterrows():\n",
    "            for j, poly2 in s_sub.iterrows():\n",
    "                if i < j :\n",
    "                    shared_boundary = poly1['geometry'].boundary.intersection(poly2['geometry'].boundary)\n",
    "\n",
    "                    if not shared_boundary.is_empty:\n",
    "                        if isinstance(shared_boundary, GeometryCollection):\n",
    "                            shared_boundary = MultiLineString([geom for geom in shared_boundary.geoms if isinstance(geom, LineString)])\n",
    "                        if isinstance(shared_boundary, MultiLineString):\n",
    "                            shared_boundary = linemerge(shared_boundary)\n",
    "                        if isinstance(shared_boundary, LineString):\n",
    "                            shared_boundary = [shared_boundary]\n",
    "                        elif isinstance(shared_boundary, MultiLineString):\n",
    "                            shared_boundary = list(shared_boundary.geoms)\n",
    "                        else:\n",
    "                            continue\n",
    "                        for line in shared_boundary:\n",
    "                            if isinstance(line, LineString):\n",
    "                                line = taubin_smooth(line)\n",
    "                                borders.append({\"geometry\":line,poly1.value:True,poly2.value:True,\"origin\":origin})\n",
    "    \n",
    "    pd.set_option('future.no_silent_downcasting', True)\n",
    "    borders = gpd.GeoDataFrame.from_dict(borders).fillna(False)\n",
    "    pd.reset_option('future.no_silent_downcasting')\n",
    "\n",
    "    land_cover_cls = s.value.unique()\n",
    "    if exact:\n",
    "        borders_new = []\n",
    "        for i,group in borders.groupby(\"origin\"):\n",
    "            group = group.groupby(list(land_cover_cls),as_index=False)['geometry'].apply(lambda x: MultiLineString(x.tolist()))\n",
    "            group.sort_index(axis=1, inplace=True)\n",
    "            # index instead of dummies\n",
    "            group.index = group.apply(lambda row: ' - '.join([col for col in group.columns.drop(\"geometry\") if row[col]]), axis=1)\n",
    "            group.drop(group.columns.drop(\"geometry\"),axis=1,inplace=True)\n",
    "            group[\"origin\"] = i\n",
    "            group[\"length\"] = group.geometry.length\n",
    "            group[\"len_percent\"] = group[\"length\"] / group[\"length\"].sum()\n",
    "            group[\"len_per_area\"] = group[\"length\"] / regions.loc[i].area\n",
    "            borders_new.append(group)\n",
    "        borders = pd.concat(borders_new)\n",
    "        borders_wide = []\n",
    "        for i,group in borders.groupby(\"origin\"):\n",
    "            df = group.drop(columns=\"origin\").unstack().to_frame().T.swaplevel(0,1,axis=1).sort_index(axis=1)\n",
    "            borders_wide.append(df)\n",
    "        borders_wide = pd.concat(borders_wide,keys=borders.origin.unique()).droplevel(1)\n",
    "        return borders_wide\n",
    "    else:\n",
    "        borders_new =[]\n",
    "        for i,group in borders.groupby(\"origin\"):\n",
    "            data = []\n",
    "            for land_cover in group.columns.drop([\"geometry\",\"origin\"]):\n",
    "                geom = MultiLineString(group.loc[group.loc[:,land_cover],\"geometry\"].to_list())\n",
    "                data.append({\"geometry\":geom,\"land_cover\":land_cover})\n",
    "            data = gpd.GeoDataFrame(data)\n",
    "            data = data.set_index(\"land_cover\")\n",
    "            data[\"length\"] = data.geometry.length\n",
    "            data[\"len_percent\"] = data[\"length\"] / data[\"length\"].sum()\n",
    "            data[\"len_per_area\"] = data[\"length\"] / regions.loc[i].area\n",
    "            data = data.unstack().to_frame().T.swaplevel(0,1,axis=1).sort_index(axis=1)\n",
    "            # data[\"origin\"] = i\n",
    "            borders_new.append(data)\n",
    "        borders_wide = pd.concat(borders_new,keys=borders.origin.unique()).droplevel(1)\n",
    "        return borders_wide"
   ]
  },
  {
   "cell_type": "code",
   "execution_count": 14,
   "metadata": {},
   "outputs": [
    {
     "data": {
      "application/vnd.jupyter.widget-view+json": {
       "model_id": "4bb4422c720c43e19a021dfd11cc7384",
       "version_major": 2,
       "version_minor": 0
      },
      "text/plain": [
       "Ecotones:   0%|          | 0/64 [00:00<?, ?it/s]"
      ]
     },
     "metadata": {},
     "output_type": "display_data"
    }
   ],
   "source": [
    "sr_ecotones_all = []\n",
    "for sr_geoms in log_progress(sr_geoms_all, desc=\"Ecotones\"):\n",
    "    sr_ecotones = get_ecotones(sr_geoms)\n",
    "    sr_ecotones_all.append(sr_ecotones)"
   ]
  },
  {
   "cell_type": "code",
   "execution_count": 16,
   "metadata": {},
   "outputs": [],
   "source": [
    "srs = []\n",
    "for sr_params, sr_zs, sr_ecotones, sr_geom_features, sr_geoms in zip(sr_params_all, sr_zs_all, sr_ecotones_all, sr_geom_features_all, sr_geoms_all):\n",
    "    srs_temp = pd.concat([sr_params, sr_zs, sr_ecotones, sr_geom_features], axis=1, keys=['params', 'zs', 'ecotones', 'geom']).sort_index()\n",
    "    srs_temp = gpd.GeoDataFrame(srs_temp, geometry=sr_geoms)\n",
    "    srs.append(srs_temp)"
   ]
  }
 ],
 "metadata": {
  "kernelspec": {
   "display_name": "Python 3",
   "language": "python",
   "name": "python3"
  },
  "language_info": {
   "codemirror_mode": {
    "name": "ipython",
    "version": 3
   },
   "file_extension": ".py",
   "mimetype": "text/x-python",
   "name": "python",
   "nbconvert_exporter": "python",
   "pygments_lexer": "ipython3",
   "version": "3.11.9"
  }
 },
 "nbformat": 4,
 "nbformat_minor": 2
}
