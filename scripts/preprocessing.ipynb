{
 "cells": [
  {
   "cell_type": "markdown",
   "metadata": {},
   "source": [
    "# Setup"
   ]
  },
  {
   "cell_type": "markdown",
   "metadata": {},
   "source": [
    "## Imports"
   ]
  },
  {
   "cell_type": "code",
   "execution_count": 1,
   "metadata": {},
   "outputs": [],
   "source": [
    "from configparser import ConfigParser\n",
    "import os\n",
    "from datetime import datetime, timedelta\n",
    "from fncs import *\n",
    "from fncs_cluster_pos import *"
   ]
  },
  {
   "cell_type": "markdown",
   "metadata": {},
   "source": [
    "## Config"
   ]
  },
  {
   "cell_type": "code",
   "execution_count": 2,
   "metadata": {},
   "outputs": [
    {
     "data": {
      "text/plain": [
       "['C:\\\\Users\\\\Tobi\\\\Documents\\\\BFNME Lokal\\\\Buzzards2\\\\config.ini']"
      ]
     },
     "execution_count": 2,
     "metadata": {},
     "output_type": "execute_result"
    }
   ],
   "source": [
    "config = ConfigParser()\n",
    "config.read(r'C:\\Users\\Tobi\\Documents\\BFNME Lokal\\Buzzards2\\config.ini')"
   ]
  },
  {
   "cell_type": "markdown",
   "metadata": {},
   "source": [
    "# Load"
   ]
  },
  {
   "cell_type": "markdown",
   "metadata": {},
   "source": [
    "## Files"
   ]
  },
  {
   "cell_type": "code",
   "execution_count": 3,
   "metadata": {},
   "outputs": [
    {
     "data": {
      "application/vnd.jupyter.widget-view+json": {
       "model_id": "3a1c9b6569b940248dbb0b29de581c10",
       "version_major": 2,
       "version_minor": 0
      },
      "text/plain": [
       "Loading files:   0%|          | 0/65 [00:00<?, ?it/s]"
      ]
     },
     "metadata": {},
     "output_type": "display_data"
    }
   ],
   "source": [
    "tracks,ids = load_raw_files(config['Path']['tracks'])"
   ]
  },
  {
   "cell_type": "code",
   "execution_count": 4,
   "metadata": {},
   "outputs": [],
   "source": [
    "gdfs_new = []\n",
    "for gdf in tracks:\n",
    "    gdf[\"dt_last_dp\"] = gdf.index.get_level_values(\"datetime\").diff()\n",
    "    gdf[\"dt_next_dp\"] = -gdf.index.get_level_values(\"datetime\").diff(-1)\n",
    "    gdf[\"dur\"] = (gdf.dt_last_dp/2 + gdf.dt_next_dp/2).fillna(timedelta(hours=1))\n",
    "    gdf[\"doy\"] = gdf.index.get_level_values(\"datetime\").dayofyear\n",
    "    gdfs_new.append(gdf)\n",
    "tracks = gdfs_new"
   ]
  },
  {
   "cell_type": "code",
   "execution_count": 5,
   "metadata": {},
   "outputs": [
    {
     "data": {
      "application/vnd.jupyter.widget-view+json": {
       "model_id": "77a75fb88dca4dadb905486c9396761b",
       "version_major": 2,
       "version_minor": 0
      },
      "text/plain": [
       "  0%|          | 0/64 [00:00<?, ?it/s]"
      ]
     },
     "metadata": {},
     "output_type": "display_data"
    },
    {
     "data": {
      "application/vnd.jupyter.widget-view+json": {
       "model_id": "c563f23278464beba787953156b07011",
       "version_major": 2,
       "version_minor": 0
      },
      "text/plain": [
       "SRs:   0%|          | 0/5 [00:00<?, ?it/s]"
      ]
     },
     "metadata": {},
     "output_type": "display_data"
    },
    {
     "data": {
      "application/vnd.jupyter.widget-view+json": {
       "model_id": "a81fe8e74bc44f5db89804e1111afde2",
       "version_major": 2,
       "version_minor": 0
      },
      "text/plain": [
       "Contours:   0%|          | 0/1 [00:00<?, ?it/s]"
      ]
     },
     "metadata": {},
     "output_type": "display_data"
    },
    {
     "data": {
      "application/vnd.jupyter.widget-view+json": {
       "model_id": "acd3161c31ef4ad6b74ccdd084804804",
       "version_major": 2,
       "version_minor": 0
      },
      "text/plain": [
       "Contours:   0%|          | 0/10 [00:00<?, ?it/s]"
      ]
     },
     "metadata": {},
     "output_type": "display_data"
    },
    {
     "data": {
      "application/vnd.jupyter.widget-view+json": {
       "model_id": "56fe4d0cd98b461f961cad429416146e",
       "version_major": 2,
       "version_minor": 0
      },
      "text/plain": [
       "Contours:   0%|          | 0/8 [00:00<?, ?it/s]"
      ]
     },
     "metadata": {},
     "output_type": "display_data"
    },
    {
     "data": {
      "application/vnd.jupyter.widget-view+json": {
       "model_id": "b8dab8a8615948fcb36c23f0610a2638",
       "version_major": 2,
       "version_minor": 0
      },
      "text/plain": [
       "SRs:   0%|          | 0/1 [00:00<?, ?it/s]"
      ]
     },
     "metadata": {},
     "output_type": "display_data"
    },
    {
     "data": {
      "application/vnd.jupyter.widget-view+json": {
       "model_id": "1f4fd4e4ff9b495cb792567fbf2aed40",
       "version_major": 2,
       "version_minor": 0
      },
      "text/plain": [
       "Contours:   0%|          | 0/3 [00:00<?, ?it/s]"
      ]
     },
     "metadata": {},
     "output_type": "display_data"
    },
    {
     "data": {
      "application/vnd.jupyter.widget-view+json": {
       "model_id": "01762ddb9ec34d81bf1f1e710b84ae98",
       "version_major": 2,
       "version_minor": 0
      },
      "text/plain": [
       "SRs:   0%|          | 0/6 [00:00<?, ?it/s]"
      ]
     },
     "metadata": {},
     "output_type": "display_data"
    },
    {
     "data": {
      "application/vnd.jupyter.widget-view+json": {
       "model_id": "74f047967f5b4e77994576d0e1169f5a",
       "version_major": 2,
       "version_minor": 0
      },
      "text/plain": [
       "Contours:   0%|          | 0/1 [00:00<?, ?it/s]"
      ]
     },
     "metadata": {},
     "output_type": "display_data"
    },
    {
     "data": {
      "application/vnd.jupyter.widget-view+json": {
       "model_id": "fc4e8238f98444f69876ae301529763d",
       "version_major": 2,
       "version_minor": 0
      },
      "text/plain": [
       "Contours:   0%|          | 0/22 [00:00<?, ?it/s]"
      ]
     },
     "metadata": {},
     "output_type": "display_data"
    },
    {
     "data": {
      "application/vnd.jupyter.widget-view+json": {
       "model_id": "ea3f1d379cc34d03adecf7df0b3f96e1",
       "version_major": 2,
       "version_minor": 0
      },
      "text/plain": [
       "SRs:   0%|          | 0/8 [00:00<?, ?it/s]"
      ]
     },
     "metadata": {},
     "output_type": "display_data"
    },
    {
     "data": {
      "application/vnd.jupyter.widget-view+json": {
       "model_id": "51bfda4d12ab47f79f985dbcc2e41231",
       "version_major": 2,
       "version_minor": 0
      },
      "text/plain": [
       "Contours:   0%|          | 0/1 [00:00<?, ?it/s]"
      ]
     },
     "metadata": {},
     "output_type": "display_data"
    },
    {
     "data": {
      "application/vnd.jupyter.widget-view+json": {
       "model_id": "ce56e6f9846a4d56b695f04a793dd4f7",
       "version_major": 2,
       "version_minor": 0
      },
      "text/plain": [
       "SRs:   0%|          | 0/3 [00:00<?, ?it/s]"
      ]
     },
     "metadata": {},
     "output_type": "display_data"
    },
    {
     "data": {
      "application/vnd.jupyter.widget-view+json": {
       "model_id": "280ce7d63b624d2b898df638dddd6e66",
       "version_major": 2,
       "version_minor": 0
      },
      "text/plain": [
       "Contours:   0%|          | 0/4 [00:00<?, ?it/s]"
      ]
     },
     "metadata": {},
     "output_type": "display_data"
    },
    {
     "data": {
      "application/vnd.jupyter.widget-view+json": {
       "model_id": "409a61f70abb409d945529b311d41f86",
       "version_major": 2,
       "version_minor": 0
      },
      "text/plain": [
       "SRs:   0%|          | 0/5 [00:00<?, ?it/s]"
      ]
     },
     "metadata": {},
     "output_type": "display_data"
    },
    {
     "data": {
      "application/vnd.jupyter.widget-view+json": {
       "model_id": "fc259a2155114d69a08032da8c52e5ff",
       "version_major": 2,
       "version_minor": 0
      },
      "text/plain": [
       "Contours:   0%|          | 0/1 [00:00<?, ?it/s]"
      ]
     },
     "metadata": {},
     "output_type": "display_data"
    },
    {
     "data": {
      "application/vnd.jupyter.widget-view+json": {
       "model_id": "0b3ae0727d6f4cd7882c6891a858692a",
       "version_major": 2,
       "version_minor": 0
      },
      "text/plain": [
       "Contours:   0%|          | 0/11 [00:00<?, ?it/s]"
      ]
     },
     "metadata": {},
     "output_type": "display_data"
    },
    {
     "data": {
      "application/vnd.jupyter.widget-view+json": {
       "model_id": "bc7a2c42373549d69aae7a2a825dcbe8",
       "version_major": 2,
       "version_minor": 0
      },
      "text/plain": [
       "SRs:   0%|          | 0/4 [00:00<?, ?it/s]"
      ]
     },
     "metadata": {},
     "output_type": "display_data"
    },
    {
     "data": {
      "application/vnd.jupyter.widget-view+json": {
       "model_id": "66059ec16f8e41c8a6fb5413f68551ea",
       "version_major": 2,
       "version_minor": 0
      },
      "text/plain": [
       "SRs:   0%|          | 0/1 [00:00<?, ?it/s]"
      ]
     },
     "metadata": {},
     "output_type": "display_data"
    },
    {
     "data": {
      "application/vnd.jupyter.widget-view+json": {
       "model_id": "5c4edaa76bbf4273a9a3dd036e25e374",
       "version_major": 2,
       "version_minor": 0
      },
      "text/plain": [
       "SRs:   0%|          | 0/5 [00:00<?, ?it/s]"
      ]
     },
     "metadata": {},
     "output_type": "display_data"
    },
    {
     "data": {
      "application/vnd.jupyter.widget-view+json": {
       "model_id": "8e52e7e266b749a994c07929dd0e77a1",
       "version_major": 2,
       "version_minor": 0
      },
      "text/plain": [
       "Contours:   0%|          | 0/1 [00:00<?, ?it/s]"
      ]
     },
     "metadata": {},
     "output_type": "display_data"
    },
    {
     "data": {
      "application/vnd.jupyter.widget-view+json": {
       "model_id": "620071f8f0b14f88b0738014bbff11c6",
       "version_major": 2,
       "version_minor": 0
      },
      "text/plain": [
       "Contours:   0%|          | 0/1 [00:00<?, ?it/s]"
      ]
     },
     "metadata": {},
     "output_type": "display_data"
    },
    {
     "data": {
      "application/vnd.jupyter.widget-view+json": {
       "model_id": "16cc97b62e3c4943a3ffe3d750a7ad71",
       "version_major": 2,
       "version_minor": 0
      },
      "text/plain": [
       "Contours:   0%|          | 0/7 [00:00<?, ?it/s]"
      ]
     },
     "metadata": {},
     "output_type": "display_data"
    },
    {
     "data": {
      "application/vnd.jupyter.widget-view+json": {
       "model_id": "42fe882e0d1a49549a24c98c73b734ab",
       "version_major": 2,
       "version_minor": 0
      },
      "text/plain": [
       "SRs:   0%|          | 0/2 [00:00<?, ?it/s]"
      ]
     },
     "metadata": {},
     "output_type": "display_data"
    },
    {
     "data": {
      "application/vnd.jupyter.widget-view+json": {
       "model_id": "246a93b7d1ea4cda82b571c726f3c95e",
       "version_major": 2,
       "version_minor": 0
      },
      "text/plain": [
       "Contours:   0%|          | 0/1 [00:00<?, ?it/s]"
      ]
     },
     "metadata": {},
     "output_type": "display_data"
    },
    {
     "data": {
      "application/vnd.jupyter.widget-view+json": {
       "model_id": "52b069d520e14b5fa2e1ee8db234647d",
       "version_major": 2,
       "version_minor": 0
      },
      "text/plain": [
       "SRs:   0%|          | 0/8 [00:00<?, ?it/s]"
      ]
     },
     "metadata": {},
     "output_type": "display_data"
    },
    {
     "data": {
      "application/vnd.jupyter.widget-view+json": {
       "model_id": "6bb5e812b6204c82b8227a8773946b30",
       "version_major": 2,
       "version_minor": 0
      },
      "text/plain": [
       "Contours:   0%|          | 0/3 [00:00<?, ?it/s]"
      ]
     },
     "metadata": {},
     "output_type": "display_data"
    },
    {
     "data": {
      "application/vnd.jupyter.widget-view+json": {
       "model_id": "7a2430f8ba9f40c6bd0530ffcfec5592",
       "version_major": 2,
       "version_minor": 0
      },
      "text/plain": [
       "SRs:   0%|          | 0/3 [00:00<?, ?it/s]"
      ]
     },
     "metadata": {},
     "output_type": "display_data"
    },
    {
     "data": {
      "application/vnd.jupyter.widget-view+json": {
       "model_id": "75bb86a2f5594a1fb7e1ed4cc6fb36b6",
       "version_major": 2,
       "version_minor": 0
      },
      "text/plain": [
       "Contours:   0%|          | 0/2 [00:00<?, ?it/s]"
      ]
     },
     "metadata": {},
     "output_type": "display_data"
    },
    {
     "data": {
      "application/vnd.jupyter.widget-view+json": {
       "model_id": "6b1172ddb6724f78aa73a41f73255ba5",
       "version_major": 2,
       "version_minor": 0
      },
      "text/plain": [
       "Contours:   0%|          | 0/6 [00:00<?, ?it/s]"
      ]
     },
     "metadata": {},
     "output_type": "display_data"
    },
    {
     "data": {
      "application/vnd.jupyter.widget-view+json": {
       "model_id": "819f3dc137d84e2a8de1816f13e48729",
       "version_major": 2,
       "version_minor": 0
      },
      "text/plain": [
       "SRs:   0%|          | 0/7 [00:00<?, ?it/s]"
      ]
     },
     "metadata": {},
     "output_type": "display_data"
    },
    {
     "data": {
      "application/vnd.jupyter.widget-view+json": {
       "model_id": "f5ff7253e9f44b20aa5943fe01b788fa",
       "version_major": 2,
       "version_minor": 0
      },
      "text/plain": [
       "Contours:   0%|          | 0/2 [00:00<?, ?it/s]"
      ]
     },
     "metadata": {},
     "output_type": "display_data"
    },
    {
     "data": {
      "application/vnd.jupyter.widget-view+json": {
       "model_id": "90d29c4f7eed404aacda3fa31403c943",
       "version_major": 2,
       "version_minor": 0
      },
      "text/plain": [
       "SRs:   0%|          | 0/6 [00:00<?, ?it/s]"
      ]
     },
     "metadata": {},
     "output_type": "display_data"
    },
    {
     "data": {
      "application/vnd.jupyter.widget-view+json": {
       "model_id": "f9d1815ba7274b279bebdf5053ee65db",
       "version_major": 2,
       "version_minor": 0
      },
      "text/plain": [
       "Contours:   0%|          | 0/5 [00:00<?, ?it/s]"
      ]
     },
     "metadata": {},
     "output_type": "display_data"
    },
    {
     "data": {
      "application/vnd.jupyter.widget-view+json": {
       "model_id": "d2f100d5def0447aad3936af79706c6d",
       "version_major": 2,
       "version_minor": 0
      },
      "text/plain": [
       "SRs:   0%|          | 0/4 [00:00<?, ?it/s]"
      ]
     },
     "metadata": {},
     "output_type": "display_data"
    },
    {
     "data": {
      "application/vnd.jupyter.widget-view+json": {
       "model_id": "aa4d2bd349ff4b019581f1341176284e",
       "version_major": 2,
       "version_minor": 0
      },
      "text/plain": [
       "Contours:   0%|          | 0/2 [00:00<?, ?it/s]"
      ]
     },
     "metadata": {},
     "output_type": "display_data"
    },
    {
     "data": {
      "application/vnd.jupyter.widget-view+json": {
       "model_id": "f6d50d888e5a423aa080916324c37267",
       "version_major": 2,
       "version_minor": 0
      },
      "text/plain": [
       "SRs:   0%|          | 0/1 [00:00<?, ?it/s]"
      ]
     },
     "metadata": {},
     "output_type": "display_data"
    },
    {
     "data": {
      "application/vnd.jupyter.widget-view+json": {
       "model_id": "ee01d31515b04b3cbb505ef13bd5dd74",
       "version_major": 2,
       "version_minor": 0
      },
      "text/plain": [
       "Contours:   0%|          | 0/1 [00:00<?, ?it/s]"
      ]
     },
     "metadata": {},
     "output_type": "display_data"
    },
    {
     "data": {
      "application/vnd.jupyter.widget-view+json": {
       "model_id": "c53170bab55245a8b8c3b9dda91b9a7a",
       "version_major": 2,
       "version_minor": 0
      },
      "text/plain": [
       "SRs:   0%|          | 0/1 [00:00<?, ?it/s]"
      ]
     },
     "metadata": {},
     "output_type": "display_data"
    },
    {
     "data": {
      "application/vnd.jupyter.widget-view+json": {
       "model_id": "cd83b459b55e4e739c4a2a6d5d2c014b",
       "version_major": 2,
       "version_minor": 0
      },
      "text/plain": [
       "Contours:   0%|          | 0/4 [00:00<?, ?it/s]"
      ]
     },
     "metadata": {},
     "output_type": "display_data"
    },
    {
     "data": {
      "application/vnd.jupyter.widget-view+json": {
       "model_id": "473533126cd943f993ea1e1fe632dacc",
       "version_major": 2,
       "version_minor": 0
      },
      "text/plain": [
       "SRs:   0%|          | 0/3 [00:00<?, ?it/s]"
      ]
     },
     "metadata": {},
     "output_type": "display_data"
    },
    {
     "data": {
      "application/vnd.jupyter.widget-view+json": {
       "model_id": "67c8b54274ca47e4b1480adfdd31aa49",
       "version_major": 2,
       "version_minor": 0
      },
      "text/plain": [
       "Contours:   0%|          | 0/9 [00:00<?, ?it/s]"
      ]
     },
     "metadata": {},
     "output_type": "display_data"
    },
    {
     "data": {
      "application/vnd.jupyter.widget-view+json": {
       "model_id": "3f684e538a7548c280d6eacff6e40d0e",
       "version_major": 2,
       "version_minor": 0
      },
      "text/plain": [
       "Contours:   0%|          | 0/4 [00:00<?, ?it/s]"
      ]
     },
     "metadata": {},
     "output_type": "display_data"
    },
    {
     "data": {
      "application/vnd.jupyter.widget-view+json": {
       "model_id": "b9919e3ef2ea43ef809a1f7645ad625c",
       "version_major": 2,
       "version_minor": 0
      },
      "text/plain": [
       "SRs:   0%|          | 0/2 [00:00<?, ?it/s]"
      ]
     },
     "metadata": {},
     "output_type": "display_data"
    },
    {
     "data": {
      "application/vnd.jupyter.widget-view+json": {
       "model_id": "643c7dd63ee940f681ef064d86a3348e",
       "version_major": 2,
       "version_minor": 0
      },
      "text/plain": [
       "Contours:   0%|          | 0/1 [00:00<?, ?it/s]"
      ]
     },
     "metadata": {},
     "output_type": "display_data"
    },
    {
     "data": {
      "application/vnd.jupyter.widget-view+json": {
       "model_id": "28458ef6534b4526b7217799ad6d2f04",
       "version_major": 2,
       "version_minor": 0
      },
      "text/plain": [
       "SRs:   0%|          | 0/3 [00:00<?, ?it/s]"
      ]
     },
     "metadata": {},
     "output_type": "display_data"
    },
    {
     "data": {
      "application/vnd.jupyter.widget-view+json": {
       "model_id": "caf88fc2db674304bbeea504a3f71adc",
       "version_major": 2,
       "version_minor": 0
      },
      "text/plain": [
       "Contours:   0%|          | 0/47 [00:00<?, ?it/s]"
      ]
     },
     "metadata": {},
     "output_type": "display_data"
    },
    {
     "data": {
      "application/vnd.jupyter.widget-view+json": {
       "model_id": "1d858e35426a4f6584023ee5725ecf7f",
       "version_major": 2,
       "version_minor": 0
      },
      "text/plain": [
       "Contours:   0%|          | 0/7 [00:00<?, ?it/s]"
      ]
     },
     "metadata": {},
     "output_type": "display_data"
    },
    {
     "data": {
      "application/vnd.jupyter.widget-view+json": {
       "model_id": "7a98308bf1624fe8a17faf9077ac7728",
       "version_major": 2,
       "version_minor": 0
      },
      "text/plain": [
       "Contours:   0%|          | 0/2 [00:00<?, ?it/s]"
      ]
     },
     "metadata": {},
     "output_type": "display_data"
    },
    {
     "data": {
      "application/vnd.jupyter.widget-view+json": {
       "model_id": "b65521614536449d98d8f874e81ba8e1",
       "version_major": 2,
       "version_minor": 0
      },
      "text/plain": [
       "SRs:   0%|          | 0/1 [00:00<?, ?it/s]"
      ]
     },
     "metadata": {},
     "output_type": "display_data"
    },
    {
     "data": {
      "application/vnd.jupyter.widget-view+json": {
       "model_id": "7b5db0b2122e486ca2d1f4182a5e3409",
       "version_major": 2,
       "version_minor": 0
      },
      "text/plain": [
       "SRs:   0%|          | 0/6 [00:00<?, ?it/s]"
      ]
     },
     "metadata": {},
     "output_type": "display_data"
    },
    {
     "data": {
      "application/vnd.jupyter.widget-view+json": {
       "model_id": "11b5e1b13aac45328ee752c51b9a0a2b",
       "version_major": 2,
       "version_minor": 0
      },
      "text/plain": [
       "Contours:   0%|          | 0/1 [00:00<?, ?it/s]"
      ]
     },
     "metadata": {},
     "output_type": "display_data"
    },
    {
     "data": {
      "application/vnd.jupyter.widget-view+json": {
       "model_id": "bcb495cde7a348ffbd418e2c434ccf54",
       "version_major": 2,
       "version_minor": 0
      },
      "text/plain": [
       "Contours:   0%|          | 0/16 [00:00<?, ?it/s]"
      ]
     },
     "metadata": {},
     "output_type": "display_data"
    },
    {
     "data": {
      "application/vnd.jupyter.widget-view+json": {
       "model_id": "3796589f8ae84cf3b731271f50e26e2d",
       "version_major": 2,
       "version_minor": 0
      },
      "text/plain": [
       "SRs:   0%|          | 0/5 [00:00<?, ?it/s]"
      ]
     },
     "metadata": {},
     "output_type": "display_data"
    },
    {
     "data": {
      "application/vnd.jupyter.widget-view+json": {
       "model_id": "9eedd2f79afe44698f704a8edb7c2783",
       "version_major": 2,
       "version_minor": 0
      },
      "text/plain": [
       "Contours:   0%|          | 0/1 [00:00<?, ?it/s]"
      ]
     },
     "metadata": {},
     "output_type": "display_data"
    },
    {
     "data": {
      "application/vnd.jupyter.widget-view+json": {
       "model_id": "81227b2e9f9c4c66b8122b59aceed8a6",
       "version_major": 2,
       "version_minor": 0
      },
      "text/plain": [
       "Contours:   0%|          | 0/4 [00:00<?, ?it/s]"
      ]
     },
     "metadata": {},
     "output_type": "display_data"
    },
    {
     "data": {
      "application/vnd.jupyter.widget-view+json": {
       "model_id": "c7ed96a80e724018835c808e0f07d4c3",
       "version_major": 2,
       "version_minor": 0
      },
      "text/plain": [
       "Contours:   0%|          | 0/5 [00:00<?, ?it/s]"
      ]
     },
     "metadata": {},
     "output_type": "display_data"
    },
    {
     "data": {
      "application/vnd.jupyter.widget-view+json": {
       "model_id": "561d25e5b2b5487db86f6d3d00e9d2a1",
       "version_major": 2,
       "version_minor": 0
      },
      "text/plain": [
       "SRs:   0%|          | 0/8 [00:00<?, ?it/s]"
      ]
     },
     "metadata": {},
     "output_type": "display_data"
    },
    {
     "data": {
      "application/vnd.jupyter.widget-view+json": {
       "model_id": "bed942f28673497095772453e86af78e",
       "version_major": 2,
       "version_minor": 0
      },
      "text/plain": [
       "Contours:   0%|          | 0/1 [00:00<?, ?it/s]"
      ]
     },
     "metadata": {},
     "output_type": "display_data"
    },
    {
     "data": {
      "application/vnd.jupyter.widget-view+json": {
       "model_id": "56d855a6d5734210b7b3d8e143523d07",
       "version_major": 2,
       "version_minor": 0
      },
      "text/plain": [
       "Contours:   0%|          | 0/1 [00:00<?, ?it/s]"
      ]
     },
     "metadata": {},
     "output_type": "display_data"
    },
    {
     "data": {
      "application/vnd.jupyter.widget-view+json": {
       "model_id": "8f7ee73c557040b9aa098f3838ee968a",
       "version_major": 2,
       "version_minor": 0
      },
      "text/plain": [
       "SRs:   0%|          | 0/12 [00:00<?, ?it/s]"
      ]
     },
     "metadata": {},
     "output_type": "display_data"
    },
    {
     "data": {
      "application/vnd.jupyter.widget-view+json": {
       "model_id": "5181016e815f48d7be180b55eb39e420",
       "version_major": 2,
       "version_minor": 0
      },
      "text/plain": [
       "Contours:   0%|          | 0/2 [00:00<?, ?it/s]"
      ]
     },
     "metadata": {},
     "output_type": "display_data"
    },
    {
     "data": {
      "application/vnd.jupyter.widget-view+json": {
       "model_id": "3a2b60a4559e4e9cac4e5d27b5a5edaa",
       "version_major": 2,
       "version_minor": 0
      },
      "text/plain": [
       "Contours:   0%|          | 0/2 [00:00<?, ?it/s]"
      ]
     },
     "metadata": {},
     "output_type": "display_data"
    },
    {
     "data": {
      "application/vnd.jupyter.widget-view+json": {
       "model_id": "d69dec272f4f4ebda460593b102faabc",
       "version_major": 2,
       "version_minor": 0
      },
      "text/plain": [
       "Contours:   0%|          | 0/2 [00:00<?, ?it/s]"
      ]
     },
     "metadata": {},
     "output_type": "display_data"
    },
    {
     "data": {
      "application/vnd.jupyter.widget-view+json": {
       "model_id": "59cd31d5326540cc886a53666992de65",
       "version_major": 2,
       "version_minor": 0
      },
      "text/plain": [
       "Contours:   0%|          | 0/4 [00:00<?, ?it/s]"
      ]
     },
     "metadata": {},
     "output_type": "display_data"
    },
    {
     "data": {
      "application/vnd.jupyter.widget-view+json": {
       "model_id": "aa742e63241c4cc7a23228fba125e06b",
       "version_major": 2,
       "version_minor": 0
      },
      "text/plain": [
       "Contours:   0%|          | 0/8 [00:00<?, ?it/s]"
      ]
     },
     "metadata": {},
     "output_type": "display_data"
    },
    {
     "data": {
      "application/vnd.jupyter.widget-view+json": {
       "model_id": "7fb85a7a9af74fc5b1a2c19043184960",
       "version_major": 2,
       "version_minor": 0
      },
      "text/plain": [
       "Contours:   0%|          | 0/1 [00:00<?, ?it/s]"
      ]
     },
     "metadata": {},
     "output_type": "display_data"
    },
    {
     "data": {
      "application/vnd.jupyter.widget-view+json": {
       "model_id": "a045433e9c6147388289e0989c4c715b",
       "version_major": 2,
       "version_minor": 0
      },
      "text/plain": [
       "SRs:   0%|          | 0/5 [00:00<?, ?it/s]"
      ]
     },
     "metadata": {},
     "output_type": "display_data"
    },
    {
     "data": {
      "application/vnd.jupyter.widget-view+json": {
       "model_id": "84040faa8ccd4cbc8901b2cabb483087",
       "version_major": 2,
       "version_minor": 0
      },
      "text/plain": [
       "Contours:   0%|          | 0/1 [00:00<?, ?it/s]"
      ]
     },
     "metadata": {},
     "output_type": "display_data"
    },
    {
     "data": {
      "application/vnd.jupyter.widget-view+json": {
       "model_id": "b7810de726bb4c13acc3fb0d65ff6111",
       "version_major": 2,
       "version_minor": 0
      },
      "text/plain": [
       "SRs:   0%|          | 0/8 [00:00<?, ?it/s]"
      ]
     },
     "metadata": {},
     "output_type": "display_data"
    },
    {
     "data": {
      "application/vnd.jupyter.widget-view+json": {
       "model_id": "321ea2fed36c45a88e30a8b555de0623",
       "version_major": 2,
       "version_minor": 0
      },
      "text/plain": [
       "Contours:   0%|          | 0/1 [00:00<?, ?it/s]"
      ]
     },
     "metadata": {},
     "output_type": "display_data"
    },
    {
     "data": {
      "application/vnd.jupyter.widget-view+json": {
       "model_id": "cede19c41dcb41f99692768b28833b42",
       "version_major": 2,
       "version_minor": 0
      },
      "text/plain": [
       "Contours:   0%|          | 0/6 [00:00<?, ?it/s]"
      ]
     },
     "metadata": {},
     "output_type": "display_data"
    },
    {
     "data": {
      "application/vnd.jupyter.widget-view+json": {
       "model_id": "ba5e6a2eb4064b6a9c271f0fc8365555",
       "version_major": 2,
       "version_minor": 0
      },
      "text/plain": [
       "Contours:   0%|          | 0/3 [00:00<?, ?it/s]"
      ]
     },
     "metadata": {},
     "output_type": "display_data"
    },
    {
     "data": {
      "application/vnd.jupyter.widget-view+json": {
       "model_id": "c2e1a7c4f820443ba4efc395ff6d0526",
       "version_major": 2,
       "version_minor": 0
      },
      "text/plain": [
       "Contours:   0%|          | 0/19 [00:00<?, ?it/s]"
      ]
     },
     "metadata": {},
     "output_type": "display_data"
    },
    {
     "data": {
      "application/vnd.jupyter.widget-view+json": {
       "model_id": "ca0448e566f2452593414554a9b29bf4",
       "version_major": 2,
       "version_minor": 0
      },
      "text/plain": [
       "SRs:   0%|          | 0/5 [00:00<?, ?it/s]"
      ]
     },
     "metadata": {},
     "output_type": "display_data"
    },
    {
     "data": {
      "application/vnd.jupyter.widget-view+json": {
       "model_id": "ace3a337c90845ceb42fb2052ca4b3b0",
       "version_major": 2,
       "version_minor": 0
      },
      "text/plain": [
       "Contours:   0%|          | 0/2 [00:00<?, ?it/s]"
      ]
     },
     "metadata": {},
     "output_type": "display_data"
    },
    {
     "data": {
      "application/vnd.jupyter.widget-view+json": {
       "model_id": "515bc3171ec043dbb61c7b9e73d145bd",
       "version_major": 2,
       "version_minor": 0
      },
      "text/plain": [
       "Contours:   0%|          | 0/8 [00:00<?, ?it/s]"
      ]
     },
     "metadata": {},
     "output_type": "display_data"
    },
    {
     "data": {
      "application/vnd.jupyter.widget-view+json": {
       "model_id": "6e5c9073e6e5477cbfa87a4466a0bde8",
       "version_major": 2,
       "version_minor": 0
      },
      "text/plain": [
       "Contours:   0%|          | 0/4 [00:00<?, ?it/s]"
      ]
     },
     "metadata": {},
     "output_type": "display_data"
    },
    {
     "data": {
      "application/vnd.jupyter.widget-view+json": {
       "model_id": "ef2c5933c316403f98ba0d8f9db0b7da",
       "version_major": 2,
       "version_minor": 0
      },
      "text/plain": [
       "Contours:   0%|          | 0/3 [00:00<?, ?it/s]"
      ]
     },
     "metadata": {},
     "output_type": "display_data"
    },
    {
     "data": {
      "application/vnd.jupyter.widget-view+json": {
       "model_id": "79459ce3483d4bd3a0782643fd8a2249",
       "version_major": 2,
       "version_minor": 0
      },
      "text/plain": [
       "SRs:   0%|          | 0/8 [00:00<?, ?it/s]"
      ]
     },
     "metadata": {},
     "output_type": "display_data"
    },
    {
     "data": {
      "application/vnd.jupyter.widget-view+json": {
       "model_id": "c8ae84d568b8458e8e9021b879ed1d92",
       "version_major": 2,
       "version_minor": 0
      },
      "text/plain": [
       "Contours:   0%|          | 0/1 [00:00<?, ?it/s]"
      ]
     },
     "metadata": {},
     "output_type": "display_data"
    },
    {
     "data": {
      "application/vnd.jupyter.widget-view+json": {
       "model_id": "c14c9b5a659c4bf683adfe79cb181afe",
       "version_major": 2,
       "version_minor": 0
      },
      "text/plain": [
       "Contours:   0%|          | 0/4 [00:00<?, ?it/s]"
      ]
     },
     "metadata": {},
     "output_type": "display_data"
    },
    {
     "data": {
      "application/vnd.jupyter.widget-view+json": {
       "model_id": "06b49deff0ee4bd49e5f4a5b0dc59bac",
       "version_major": 2,
       "version_minor": 0
      },
      "text/plain": [
       "Contours:   0%|          | 0/2 [00:00<?, ?it/s]"
      ]
     },
     "metadata": {},
     "output_type": "display_data"
    },
    {
     "data": {
      "application/vnd.jupyter.widget-view+json": {
       "model_id": "da7087b9dbb14919ba9093f0d57b5e65",
       "version_major": 2,
       "version_minor": 0
      },
      "text/plain": [
       "Contours:   0%|          | 0/2 [00:00<?, ?it/s]"
      ]
     },
     "metadata": {},
     "output_type": "display_data"
    },
    {
     "data": {
      "application/vnd.jupyter.widget-view+json": {
       "model_id": "f11ab4f271b74b13bbe5959acf0cdcf6",
       "version_major": 2,
       "version_minor": 0
      },
      "text/plain": [
       "SRs:   0%|          | 0/17 [00:00<?, ?it/s]"
      ]
     },
     "metadata": {},
     "output_type": "display_data"
    },
    {
     "data": {
      "application/vnd.jupyter.widget-view+json": {
       "model_id": "8b9fa6be74234e04a0c9c9c8dec31ebf",
       "version_major": 2,
       "version_minor": 0
      },
      "text/plain": [
       "Contours:   0%|          | 0/1 [00:00<?, ?it/s]"
      ]
     },
     "metadata": {},
     "output_type": "display_data"
    },
    {
     "data": {
      "application/vnd.jupyter.widget-view+json": {
       "model_id": "988af3895ed3495892e30d4623bfdb68",
       "version_major": 2,
       "version_minor": 0
      },
      "text/plain": [
       "Contours:   0%|          | 0/2 [00:00<?, ?it/s]"
      ]
     },
     "metadata": {},
     "output_type": "display_data"
    },
    {
     "data": {
      "application/vnd.jupyter.widget-view+json": {
       "model_id": "89ffe9d5e6c445f6b54c7a7d6ddfd3b4",
       "version_major": 2,
       "version_minor": 0
      },
      "text/plain": [
       "Contours:   0%|          | 0/14 [00:00<?, ?it/s]"
      ]
     },
     "metadata": {},
     "output_type": "display_data"
    },
    {
     "data": {
      "application/vnd.jupyter.widget-view+json": {
       "model_id": "2b72700830254b6c92720df8691a0149",
       "version_major": 2,
       "version_minor": 0
      },
      "text/plain": [
       "Contours:   0%|          | 0/6 [00:00<?, ?it/s]"
      ]
     },
     "metadata": {},
     "output_type": "display_data"
    },
    {
     "data": {
      "application/vnd.jupyter.widget-view+json": {
       "model_id": "0e7c2d7c712343e5a8309201a6b5916a",
       "version_major": 2,
       "version_minor": 0
      },
      "text/plain": [
       "Contours:   0%|          | 0/31 [00:00<?, ?it/s]"
      ]
     },
     "metadata": {},
     "output_type": "display_data"
    },
    {
     "data": {
      "application/vnd.jupyter.widget-view+json": {
       "model_id": "1091c755f6fd4fbe953f465093f91cc7",
       "version_major": 2,
       "version_minor": 0
      },
      "text/plain": [
       "Contours:   0%|          | 0/16 [00:00<?, ?it/s]"
      ]
     },
     "metadata": {},
     "output_type": "display_data"
    },
    {
     "data": {
      "application/vnd.jupyter.widget-view+json": {
       "model_id": "33cc6816af9845369a0b096df1a65b12",
       "version_major": 2,
       "version_minor": 0
      },
      "text/plain": [
       "Contours:   0%|          | 0/2 [00:00<?, ?it/s]"
      ]
     },
     "metadata": {},
     "output_type": "display_data"
    },
    {
     "data": {
      "application/vnd.jupyter.widget-view+json": {
       "model_id": "8eff13a8c6c64a97b99482085442dd91",
       "version_major": 2,
       "version_minor": 0
      },
      "text/plain": [
       "Contours:   0%|          | 0/4 [00:00<?, ?it/s]"
      ]
     },
     "metadata": {},
     "output_type": "display_data"
    },
    {
     "data": {
      "application/vnd.jupyter.widget-view+json": {
       "model_id": "c2e0fce5285043e4bd71c73627986145",
       "version_major": 2,
       "version_minor": 0
      },
      "text/plain": [
       "Contours:   0%|          | 0/1 [00:00<?, ?it/s]"
      ]
     },
     "metadata": {},
     "output_type": "display_data"
    },
    {
     "data": {
      "application/vnd.jupyter.widget-view+json": {
       "model_id": "c7d5e1f93e6b4a7c81645ac6c8b17b5e",
       "version_major": 2,
       "version_minor": 0
      },
      "text/plain": [
       "Contours:   0%|          | 0/4 [00:00<?, ?it/s]"
      ]
     },
     "metadata": {},
     "output_type": "display_data"
    },
    {
     "data": {
      "application/vnd.jupyter.widget-view+json": {
       "model_id": "d8a4645041e14256855c7d2090396862",
       "version_major": 2,
       "version_minor": 0
      },
      "text/plain": [
       "Contours:   0%|          | 0/1 [00:00<?, ?it/s]"
      ]
     },
     "metadata": {},
     "output_type": "display_data"
    },
    {
     "data": {
      "application/vnd.jupyter.widget-view+json": {
       "model_id": "aa697e1e3d874e54998adda53a00a862",
       "version_major": 2,
       "version_minor": 0
      },
      "text/plain": [
       "Contours:   0%|          | 0/9 [00:00<?, ?it/s]"
      ]
     },
     "metadata": {},
     "output_type": "display_data"
    },
    {
     "data": {
      "application/vnd.jupyter.widget-view+json": {
       "model_id": "0eee9b7eb4a54b5f8c0375b7a78cc661",
       "version_major": 2,
       "version_minor": 0
      },
      "text/plain": [
       "Contours:   0%|          | 0/7 [00:00<?, ?it/s]"
      ]
     },
     "metadata": {},
     "output_type": "display_data"
    },
    {
     "data": {
      "application/vnd.jupyter.widget-view+json": {
       "model_id": "e0be4ba42b88416b8def5af9933e0198",
       "version_major": 2,
       "version_minor": 0
      },
      "text/plain": [
       "Contours:   0%|          | 0/6 [00:00<?, ?it/s]"
      ]
     },
     "metadata": {},
     "output_type": "display_data"
    },
    {
     "data": {
      "application/vnd.jupyter.widget-view+json": {
       "model_id": "7cfcf368550f43a9a9cd1c9bf0bea541",
       "version_major": 2,
       "version_minor": 0
      },
      "text/plain": [
       "SRs:   0%|          | 0/9 [00:00<?, ?it/s]"
      ]
     },
     "metadata": {},
     "output_type": "display_data"
    },
    {
     "data": {
      "application/vnd.jupyter.widget-view+json": {
       "model_id": "987bd04004754886be06446efb628707",
       "version_major": 2,
       "version_minor": 0
      },
      "text/plain": [
       "Contours:   0%|          | 0/2 [00:00<?, ?it/s]"
      ]
     },
     "metadata": {},
     "output_type": "display_data"
    },
    {
     "data": {
      "application/vnd.jupyter.widget-view+json": {
       "model_id": "f7c284691987477cabb5274e25334ef8",
       "version_major": 2,
       "version_minor": 0
      },
      "text/plain": [
       "Contours:   0%|          | 0/5 [00:00<?, ?it/s]"
      ]
     },
     "metadata": {},
     "output_type": "display_data"
    },
    {
     "data": {
      "application/vnd.jupyter.widget-view+json": {
       "model_id": "2ff59cf1446e4181af605d1e00891faa",
       "version_major": 2,
       "version_minor": 0
      },
      "text/plain": [
       "Contours:   0%|          | 0/5 [00:00<?, ?it/s]"
      ]
     },
     "metadata": {},
     "output_type": "display_data"
    },
    {
     "data": {
      "application/vnd.jupyter.widget-view+json": {
       "model_id": "d4b634175eb24d088a3cde4d118c376b",
       "version_major": 2,
       "version_minor": 0
      },
      "text/plain": [
       "Contours:   0%|          | 0/5 [00:00<?, ?it/s]"
      ]
     },
     "metadata": {},
     "output_type": "display_data"
    },
    {
     "data": {
      "application/vnd.jupyter.widget-view+json": {
       "model_id": "53a5d6bdc7b24bf281f862d313b50d76",
       "version_major": 2,
       "version_minor": 0
      },
      "text/plain": [
       "Contours:   0%|          | 0/15 [00:00<?, ?it/s]"
      ]
     },
     "metadata": {},
     "output_type": "display_data"
    },
    {
     "data": {
      "application/vnd.jupyter.widget-view+json": {
       "model_id": "862d40cbe4a34a97b33b394b57722d82",
       "version_major": 2,
       "version_minor": 0
      },
      "text/plain": [
       "Contours:   0%|          | 0/10 [00:00<?, ?it/s]"
      ]
     },
     "metadata": {},
     "output_type": "display_data"
    },
    {
     "data": {
      "application/vnd.jupyter.widget-view+json": {
       "model_id": "98e86379b9dd48cebd5ffe2fde4f230f",
       "version_major": 2,
       "version_minor": 0
      },
      "text/plain": [
       "Contours:   0%|          | 0/28 [00:00<?, ?it/s]"
      ]
     },
     "metadata": {},
     "output_type": "display_data"
    },
    {
     "data": {
      "application/vnd.jupyter.widget-view+json": {
       "model_id": "ce0f257885714d849dc601a1baeb1a47",
       "version_major": 2,
       "version_minor": 0
      },
      "text/plain": [
       "Contours:   0%|          | 0/5 [00:00<?, ?it/s]"
      ]
     },
     "metadata": {},
     "output_type": "display_data"
    },
    {
     "data": {
      "application/vnd.jupyter.widget-view+json": {
       "model_id": "6ff2e5fab127482ab85379746a059212",
       "version_major": 2,
       "version_minor": 0
      },
      "text/plain": [
       "SRs:   0%|          | 0/7 [00:00<?, ?it/s]"
      ]
     },
     "metadata": {},
     "output_type": "display_data"
    },
    {
     "data": {
      "application/vnd.jupyter.widget-view+json": {
       "model_id": "f0ba45b6012c49908b8abb32512dbb22",
       "version_major": 2,
       "version_minor": 0
      },
      "text/plain": [
       "Contours:   0%|          | 0/8 [00:00<?, ?it/s]"
      ]
     },
     "metadata": {},
     "output_type": "display_data"
    },
    {
     "data": {
      "application/vnd.jupyter.widget-view+json": {
       "model_id": "4302af06eb254aa390d0989242e39b4f",
       "version_major": 2,
       "version_minor": 0
      },
      "text/plain": [
       "Contours:   0%|          | 0/8 [00:00<?, ?it/s]"
      ]
     },
     "metadata": {},
     "output_type": "display_data"
    },
    {
     "data": {
      "application/vnd.jupyter.widget-view+json": {
       "model_id": "213c3d9e792e46569d99d379c535fa5b",
       "version_major": 2,
       "version_minor": 0
      },
      "text/plain": [
       "Contours:   0%|          | 0/4 [00:00<?, ?it/s]"
      ]
     },
     "metadata": {},
     "output_type": "display_data"
    },
    {
     "data": {
      "application/vnd.jupyter.widget-view+json": {
       "model_id": "3c0d5bc2a84643d88dc90bf8e391b1c0",
       "version_major": 2,
       "version_minor": 0
      },
      "text/plain": [
       "SRs:   0%|          | 0/16 [00:00<?, ?it/s]"
      ]
     },
     "metadata": {},
     "output_type": "display_data"
    },
    {
     "data": {
      "application/vnd.jupyter.widget-view+json": {
       "model_id": "ba4ba38388a84585ba58cc914ca195b1",
       "version_major": 2,
       "version_minor": 0
      },
      "text/plain": [
       "Contours:   0%|          | 0/2 [00:00<?, ?it/s]"
      ]
     },
     "metadata": {},
     "output_type": "display_data"
    },
    {
     "data": {
      "application/vnd.jupyter.widget-view+json": {
       "model_id": "059616579abb45b383ff90c82be65be5",
       "version_major": 2,
       "version_minor": 0
      },
      "text/plain": [
       "Contours:   0%|          | 0/38 [00:00<?, ?it/s]"
      ]
     },
     "metadata": {},
     "output_type": "display_data"
    },
    {
     "data": {
      "application/vnd.jupyter.widget-view+json": {
       "model_id": "3643e91a1e03465296117e1da844fa8c",
       "version_major": 2,
       "version_minor": 0
      },
      "text/plain": [
       "Contours:   0%|          | 0/10 [00:00<?, ?it/s]"
      ]
     },
     "metadata": {},
     "output_type": "display_data"
    },
    {
     "data": {
      "application/vnd.jupyter.widget-view+json": {
       "model_id": "30b73d746b3b47e6be7c8050b90b1f52",
       "version_major": 2,
       "version_minor": 0
      },
      "text/plain": [
       "Contours:   0%|          | 0/8 [00:00<?, ?it/s]"
      ]
     },
     "metadata": {},
     "output_type": "display_data"
    },
    {
     "data": {
      "application/vnd.jupyter.widget-view+json": {
       "model_id": "ec77c38f8cad4a94b8be458275585496",
       "version_major": 2,
       "version_minor": 0
      },
      "text/plain": [
       "Contours:   0%|          | 0/5 [00:00<?, ?it/s]"
      ]
     },
     "metadata": {},
     "output_type": "display_data"
    },
    {
     "data": {
      "application/vnd.jupyter.widget-view+json": {
       "model_id": "e7c61c6ca5d04762a30f8f8f21530ff7",
       "version_major": 2,
       "version_minor": 0
      },
      "text/plain": [
       "Contours:   0%|          | 0/25 [00:00<?, ?it/s]"
      ]
     },
     "metadata": {},
     "output_type": "display_data"
    },
    {
     "data": {
      "application/vnd.jupyter.widget-view+json": {
       "model_id": "eef806c852954e0a82b87e67ed40d100",
       "version_major": 2,
       "version_minor": 0
      },
      "text/plain": [
       "Contours:   0%|          | 0/4 [00:00<?, ?it/s]"
      ]
     },
     "metadata": {},
     "output_type": "display_data"
    },
    {
     "data": {
      "application/vnd.jupyter.widget-view+json": {
       "model_id": "aa451a7a14c541289c4ab9ad1438cc98",
       "version_major": 2,
       "version_minor": 0
      },
      "text/plain": [
       "Contours:   0%|          | 0/2 [00:00<?, ?it/s]"
      ]
     },
     "metadata": {},
     "output_type": "display_data"
    },
    {
     "data": {
      "application/vnd.jupyter.widget-view+json": {
       "model_id": "57f43b7ffe244a2c9a62c363e992c731",
       "version_major": 2,
       "version_minor": 0
      },
      "text/plain": [
       "Contours:   0%|          | 0/2 [00:00<?, ?it/s]"
      ]
     },
     "metadata": {},
     "output_type": "display_data"
    },
    {
     "data": {
      "application/vnd.jupyter.widget-view+json": {
       "model_id": "2c2ffea8a8ae4444aa98e46588a45b76",
       "version_major": 2,
       "version_minor": 0
      },
      "text/plain": [
       "Contours:   0%|          | 0/1 [00:00<?, ?it/s]"
      ]
     },
     "metadata": {},
     "output_type": "display_data"
    },
    {
     "data": {
      "application/vnd.jupyter.widget-view+json": {
       "model_id": "938802ffd4cd4eb9aa395e5751ea5dd5",
       "version_major": 2,
       "version_minor": 0
      },
      "text/plain": [
       "Contours:   0%|          | 0/3 [00:00<?, ?it/s]"
      ]
     },
     "metadata": {},
     "output_type": "display_data"
    },
    {
     "data": {
      "application/vnd.jupyter.widget-view+json": {
       "model_id": "5edaee60a2c44884b78c6272cf515545",
       "version_major": 2,
       "version_minor": 0
      },
      "text/plain": [
       "SRs:   0%|          | 0/9 [00:00<?, ?it/s]"
      ]
     },
     "metadata": {},
     "output_type": "display_data"
    },
    {
     "data": {
      "application/vnd.jupyter.widget-view+json": {
       "model_id": "063a1ad5b3534e039aeb6a9f56cf3a08",
       "version_major": 2,
       "version_minor": 0
      },
      "text/plain": [
       "Contours:   0%|          | 0/8 [00:00<?, ?it/s]"
      ]
     },
     "metadata": {},
     "output_type": "display_data"
    },
    {
     "data": {
      "application/vnd.jupyter.widget-view+json": {
       "model_id": "8514112281b04cf5ab79dc0e37ce2b01",
       "version_major": 2,
       "version_minor": 0
      },
      "text/plain": [
       "Contours:   0%|          | 0/5 [00:00<?, ?it/s]"
      ]
     },
     "metadata": {},
     "output_type": "display_data"
    },
    {
     "data": {
      "application/vnd.jupyter.widget-view+json": {
       "model_id": "8b4163b1e2784d398d5f6e688a3330e8",
       "version_major": 2,
       "version_minor": 0
      },
      "text/plain": [
       "Contours:   0%|          | 0/4 [00:00<?, ?it/s]"
      ]
     },
     "metadata": {},
     "output_type": "display_data"
    },
    {
     "data": {
      "application/vnd.jupyter.widget-view+json": {
       "model_id": "b0b5ede0704e47db88ad157ea5e170d7",
       "version_major": 2,
       "version_minor": 0
      },
      "text/plain": [
       "Contours:   0%|          | 0/2 [00:00<?, ?it/s]"
      ]
     },
     "metadata": {},
     "output_type": "display_data"
    },
    {
     "data": {
      "application/vnd.jupyter.widget-view+json": {
       "model_id": "a83e7aa635924d6ea4d5a3b51ea174ff",
       "version_major": 2,
       "version_minor": 0
      },
      "text/plain": [
       "Contours:   0%|          | 0/20 [00:00<?, ?it/s]"
      ]
     },
     "metadata": {},
     "output_type": "display_data"
    },
    {
     "data": {
      "application/vnd.jupyter.widget-view+json": {
       "model_id": "0817b6780ce54e63b2b58146a346fa37",
       "version_major": 2,
       "version_minor": 0
      },
      "text/plain": [
       "Contours:   0%|          | 0/7 [00:00<?, ?it/s]"
      ]
     },
     "metadata": {},
     "output_type": "display_data"
    },
    {
     "data": {
      "application/vnd.jupyter.widget-view+json": {
       "model_id": "f21129855b564074a35265ce5bce0647",
       "version_major": 2,
       "version_minor": 0
      },
      "text/plain": [
       "SRs:   0%|          | 0/3 [00:00<?, ?it/s]"
      ]
     },
     "metadata": {},
     "output_type": "display_data"
    },
    {
     "data": {
      "application/vnd.jupyter.widget-view+json": {
       "model_id": "d4d155a5388c46608e8e5e1e3a0e27ae",
       "version_major": 2,
       "version_minor": 0
      },
      "text/plain": [
       "Contours:   0%|          | 0/1 [00:00<?, ?it/s]"
      ]
     },
     "metadata": {},
     "output_type": "display_data"
    },
    {
     "data": {
      "application/vnd.jupyter.widget-view+json": {
       "model_id": "bec0a293b0664037ad017c2338714da7",
       "version_major": 2,
       "version_minor": 0
      },
      "text/plain": [
       "Contours:   0%|          | 0/32 [00:00<?, ?it/s]"
      ]
     },
     "metadata": {},
     "output_type": "display_data"
    },
    {
     "data": {
      "application/vnd.jupyter.widget-view+json": {
       "model_id": "6ed89c54f56446d1a8767cdf1842223e",
       "version_major": 2,
       "version_minor": 0
      },
      "text/plain": [
       "SRs:   0%|          | 0/7 [00:00<?, ?it/s]"
      ]
     },
     "metadata": {},
     "output_type": "display_data"
    },
    {
     "data": {
      "application/vnd.jupyter.widget-view+json": {
       "model_id": "f0baf89486e340988c1d7479e71cf2db",
       "version_major": 2,
       "version_minor": 0
      },
      "text/plain": [
       "Contours:   0%|          | 0/1 [00:00<?, ?it/s]"
      ]
     },
     "metadata": {},
     "output_type": "display_data"
    },
    {
     "data": {
      "application/vnd.jupyter.widget-view+json": {
       "model_id": "9b6e460ade394b169f9c89a8b63520fa",
       "version_major": 2,
       "version_minor": 0
      },
      "text/plain": [
       "Contours:   0%|          | 0/9 [00:00<?, ?it/s]"
      ]
     },
     "metadata": {},
     "output_type": "display_data"
    },
    {
     "data": {
      "application/vnd.jupyter.widget-view+json": {
       "model_id": "9b4ee30825ad4c55ab306446c79fc677",
       "version_major": 2,
       "version_minor": 0
      },
      "text/plain": [
       "Contours:   0%|          | 0/3 [00:00<?, ?it/s]"
      ]
     },
     "metadata": {},
     "output_type": "display_data"
    },
    {
     "data": {
      "application/vnd.jupyter.widget-view+json": {
       "model_id": "40de04d3d01b46c0987ff79c309636b2",
       "version_major": 2,
       "version_minor": 0
      },
      "text/plain": [
       "Contours:   0%|          | 0/20 [00:00<?, ?it/s]"
      ]
     },
     "metadata": {},
     "output_type": "display_data"
    },
    {
     "data": {
      "application/vnd.jupyter.widget-view+json": {
       "model_id": "9d9cafcbcb124f3c83d1a2c8455c4c0a",
       "version_major": 2,
       "version_minor": 0
      },
      "text/plain": [
       "SRs:   0%|          | 0/2 [00:00<?, ?it/s]"
      ]
     },
     "metadata": {},
     "output_type": "display_data"
    },
    {
     "data": {
      "application/vnd.jupyter.widget-view+json": {
       "model_id": "95c06781d62b48a29c446720e3454d91",
       "version_major": 2,
       "version_minor": 0
      },
      "text/plain": [
       "Contours:   0%|          | 0/7 [00:00<?, ?it/s]"
      ]
     },
     "metadata": {},
     "output_type": "display_data"
    },
    {
     "data": {
      "application/vnd.jupyter.widget-view+json": {
       "model_id": "b84c802a6f394298a4810e915e0b0c85",
       "version_major": 2,
       "version_minor": 0
      },
      "text/plain": [
       "SRs:   0%|          | 0/5 [00:00<?, ?it/s]"
      ]
     },
     "metadata": {},
     "output_type": "display_data"
    },
    {
     "data": {
      "application/vnd.jupyter.widget-view+json": {
       "model_id": "d0748c1cc1fa49559e5ed96b46774d0b",
       "version_major": 2,
       "version_minor": 0
      },
      "text/plain": [
       "Contours:   0%|          | 0/6 [00:00<?, ?it/s]"
      ]
     },
     "metadata": {},
     "output_type": "display_data"
    },
    {
     "data": {
      "application/vnd.jupyter.widget-view+json": {
       "model_id": "78bfc125dab8456a91a8c699e963e28f",
       "version_major": 2,
       "version_minor": 0
      },
      "text/plain": [
       "Contours:   0%|          | 0/14 [00:00<?, ?it/s]"
      ]
     },
     "metadata": {},
     "output_type": "display_data"
    },
    {
     "data": {
      "application/vnd.jupyter.widget-view+json": {
       "model_id": "47000315ae544d2cb867ed43cde81b05",
       "version_major": 2,
       "version_minor": 0
      },
      "text/plain": [
       "Contours:   0%|          | 0/6 [00:00<?, ?it/s]"
      ]
     },
     "metadata": {},
     "output_type": "display_data"
    },
    {
     "data": {
      "application/vnd.jupyter.widget-view+json": {
       "model_id": "a20694d8709f42de886f491dad22dc85",
       "version_major": 2,
       "version_minor": 0
      },
      "text/plain": [
       "Contours:   0%|          | 0/2 [00:00<?, ?it/s]"
      ]
     },
     "metadata": {},
     "output_type": "display_data"
    },
    {
     "data": {
      "application/vnd.jupyter.widget-view+json": {
       "model_id": "57d2c2d659a44cf9a5b7bc5ed4628d6f",
       "version_major": 2,
       "version_minor": 0
      },
      "text/plain": [
       "SRs:   0%|          | 0/3 [00:00<?, ?it/s]"
      ]
     },
     "metadata": {},
     "output_type": "display_data"
    },
    {
     "data": {
      "application/vnd.jupyter.widget-view+json": {
       "model_id": "ef7d74eceebd48b5a630f9dfc63745cd",
       "version_major": 2,
       "version_minor": 0
      },
      "text/plain": [
       "Contours:   0%|          | 0/3 [00:00<?, ?it/s]"
      ]
     },
     "metadata": {},
     "output_type": "display_data"
    },
    {
     "data": {
      "application/vnd.jupyter.widget-view+json": {
       "model_id": "391b1642c2a44427883546b1a04345d4",
       "version_major": 2,
       "version_minor": 0
      },
      "text/plain": [
       "Contours:   0%|          | 0/2 [00:00<?, ?it/s]"
      ]
     },
     "metadata": {},
     "output_type": "display_data"
    },
    {
     "data": {
      "application/vnd.jupyter.widget-view+json": {
       "model_id": "9c83e1d4b9b748ba82f35f02aeb5e34c",
       "version_major": 2,
       "version_minor": 0
      },
      "text/plain": [
       "SRs:   0%|          | 0/8 [00:00<?, ?it/s]"
      ]
     },
     "metadata": {},
     "output_type": "display_data"
    },
    {
     "data": {
      "application/vnd.jupyter.widget-view+json": {
       "model_id": "d89a29cc80a144849aee514d41d6c07d",
       "version_major": 2,
       "version_minor": 0
      },
      "text/plain": [
       "Contours:   0%|          | 0/29 [00:00<?, ?it/s]"
      ]
     },
     "metadata": {},
     "output_type": "display_data"
    },
    {
     "data": {
      "application/vnd.jupyter.widget-view+json": {
       "model_id": "5200352ef6f64a15b569f3ac26437442",
       "version_major": 2,
       "version_minor": 0
      },
      "text/plain": [
       "Contours:   0%|          | 0/4 [00:00<?, ?it/s]"
      ]
     },
     "metadata": {},
     "output_type": "display_data"
    },
    {
     "data": {
      "application/vnd.jupyter.widget-view+json": {
       "model_id": "051a02c34c6841ba8f3e8fc094d4c578",
       "version_major": 2,
       "version_minor": 0
      },
      "text/plain": [
       "Contours:   0%|          | 0/6 [00:00<?, ?it/s]"
      ]
     },
     "metadata": {},
     "output_type": "display_data"
    },
    {
     "data": {
      "application/vnd.jupyter.widget-view+json": {
       "model_id": "62999b81c1d44d06a7c66cfec5383873",
       "version_major": 2,
       "version_minor": 0
      },
      "text/plain": [
       "Contours:   0%|          | 0/18 [00:00<?, ?it/s]"
      ]
     },
     "metadata": {},
     "output_type": "display_data"
    },
    {
     "data": {
      "application/vnd.jupyter.widget-view+json": {
       "model_id": "9e08bdd3afbb4b18b0c9325d92b59678",
       "version_major": 2,
       "version_minor": 0
      },
      "text/plain": [
       "Contours:   0%|          | 0/7 [00:00<?, ?it/s]"
      ]
     },
     "metadata": {},
     "output_type": "display_data"
    },
    {
     "data": {
      "application/vnd.jupyter.widget-view+json": {
       "model_id": "2431677386fe4e21b3d51e9013ac9133",
       "version_major": 2,
       "version_minor": 0
      },
      "text/plain": [
       "Contours:   0%|          | 0/3 [00:00<?, ?it/s]"
      ]
     },
     "metadata": {},
     "output_type": "display_data"
    },
    {
     "data": {
      "application/vnd.jupyter.widget-view+json": {
       "model_id": "01c1bcaa36e24f8eb6151e2cba2e24d0",
       "version_major": 2,
       "version_minor": 0
      },
      "text/plain": [
       "Contours:   0%|          | 0/7 [00:00<?, ?it/s]"
      ]
     },
     "metadata": {},
     "output_type": "display_data"
    },
    {
     "data": {
      "application/vnd.jupyter.widget-view+json": {
       "model_id": "8870beecda514ad88e5f820f8e57dafb",
       "version_major": 2,
       "version_minor": 0
      },
      "text/plain": [
       "SRs:   0%|          | 0/2 [00:00<?, ?it/s]"
      ]
     },
     "metadata": {},
     "output_type": "display_data"
    },
    {
     "data": {
      "application/vnd.jupyter.widget-view+json": {
       "model_id": "2ecac03b5dd340549c1f035c8073dab2",
       "version_major": 2,
       "version_minor": 0
      },
      "text/plain": [
       "Contours:   0%|          | 0/3 [00:00<?, ?it/s]"
      ]
     },
     "metadata": {},
     "output_type": "display_data"
    },
    {
     "data": {
      "application/vnd.jupyter.widget-view+json": {
       "model_id": "ca4e9a856c364459aa6bae7f7369a001",
       "version_major": 2,
       "version_minor": 0
      },
      "text/plain": [
       "Contours:   0%|          | 0/5 [00:00<?, ?it/s]"
      ]
     },
     "metadata": {},
     "output_type": "display_data"
    },
    {
     "data": {
      "application/vnd.jupyter.widget-view+json": {
       "model_id": "ff7963e878634112be26b67f59815bf1",
       "version_major": 2,
       "version_minor": 0
      },
      "text/plain": [
       "SRs:   0%|          | 0/5 [00:00<?, ?it/s]"
      ]
     },
     "metadata": {},
     "output_type": "display_data"
    },
    {
     "data": {
      "application/vnd.jupyter.widget-view+json": {
       "model_id": "6d851c76a4a147e78b2bef582696ecff",
       "version_major": 2,
       "version_minor": 0
      },
      "text/plain": [
       "Contours:   0%|          | 0/1 [00:00<?, ?it/s]"
      ]
     },
     "metadata": {},
     "output_type": "display_data"
    },
    {
     "data": {
      "application/vnd.jupyter.widget-view+json": {
       "model_id": "e834658f42114f4eb4a3749287910013",
       "version_major": 2,
       "version_minor": 0
      },
      "text/plain": [
       "Contours:   0%|          | 0/11 [00:00<?, ?it/s]"
      ]
     },
     "metadata": {},
     "output_type": "display_data"
    },
    {
     "data": {
      "application/vnd.jupyter.widget-view+json": {
       "model_id": "347b13b77c674ed99e032df954e237ce",
       "version_major": 2,
       "version_minor": 0
      },
      "text/plain": [
       "Contours:   0%|          | 0/2 [00:00<?, ?it/s]"
      ]
     },
     "metadata": {},
     "output_type": "display_data"
    },
    {
     "data": {
      "application/vnd.jupyter.widget-view+json": {
       "model_id": "b28897e12698471ca06ba000264f345e",
       "version_major": 2,
       "version_minor": 0
      },
      "text/plain": [
       "Contours:   0%|          | 0/9 [00:00<?, ?it/s]"
      ]
     },
     "metadata": {},
     "output_type": "display_data"
    },
    {
     "data": {
      "application/vnd.jupyter.widget-view+json": {
       "model_id": "8fd01ed0a4df4ed592cca8fe18d34e1b",
       "version_major": 2,
       "version_minor": 0
      },
      "text/plain": [
       "SRs:   0%|          | 0/5 [00:00<?, ?it/s]"
      ]
     },
     "metadata": {},
     "output_type": "display_data"
    },
    {
     "data": {
      "application/vnd.jupyter.widget-view+json": {
       "model_id": "0cd851d8d39f4469872b728439cbd08e",
       "version_major": 2,
       "version_minor": 0
      },
      "text/plain": [
       "Contours:   0%|          | 0/1 [00:00<?, ?it/s]"
      ]
     },
     "metadata": {},
     "output_type": "display_data"
    },
    {
     "data": {
      "application/vnd.jupyter.widget-view+json": {
       "model_id": "4240e10fcf3e411892f9e0f51cb7f2f0",
       "version_major": 2,
       "version_minor": 0
      },
      "text/plain": [
       "Contours:   0%|          | 0/4 [00:00<?, ?it/s]"
      ]
     },
     "metadata": {},
     "output_type": "display_data"
    },
    {
     "data": {
      "application/vnd.jupyter.widget-view+json": {
       "model_id": "77e9d7850df2469f9d3dfe4048099796",
       "version_major": 2,
       "version_minor": 0
      },
      "text/plain": [
       "SRs:   0%|          | 0/5 [00:00<?, ?it/s]"
      ]
     },
     "metadata": {},
     "output_type": "display_data"
    },
    {
     "data": {
      "application/vnd.jupyter.widget-view+json": {
       "model_id": "5ddca96783a243258d2318df9f609309",
       "version_major": 2,
       "version_minor": 0
      },
      "text/plain": [
       "Contours:   0%|          | 0/5 [00:00<?, ?it/s]"
      ]
     },
     "metadata": {},
     "output_type": "display_data"
    },
    {
     "data": {
      "application/vnd.jupyter.widget-view+json": {
       "model_id": "bec4014a4e514f2ab8bf80897e7b8709",
       "version_major": 2,
       "version_minor": 0
      },
      "text/plain": [
       "Contours:   0%|          | 0/12 [00:00<?, ?it/s]"
      ]
     },
     "metadata": {},
     "output_type": "display_data"
    },
    {
     "data": {
      "application/vnd.jupyter.widget-view+json": {
       "model_id": "f4348d052397446491c26d061ea013cc",
       "version_major": 2,
       "version_minor": 0
      },
      "text/plain": [
       "Contours:   0%|          | 0/4 [00:00<?, ?it/s]"
      ]
     },
     "metadata": {},
     "output_type": "display_data"
    },
    {
     "data": {
      "application/vnd.jupyter.widget-view+json": {
       "model_id": "c7328789e79647618d290a5e73fd0043",
       "version_major": 2,
       "version_minor": 0
      },
      "text/plain": [
       "SRs:   0%|          | 0/8 [00:00<?, ?it/s]"
      ]
     },
     "metadata": {},
     "output_type": "display_data"
    },
    {
     "data": {
      "application/vnd.jupyter.widget-view+json": {
       "model_id": "621df2d944984c94aed8dc8b97ed0179",
       "version_major": 2,
       "version_minor": 0
      },
      "text/plain": [
       "Contours:   0%|          | 0/1 [00:00<?, ?it/s]"
      ]
     },
     "metadata": {},
     "output_type": "display_data"
    },
    {
     "data": {
      "application/vnd.jupyter.widget-view+json": {
       "model_id": "947116e623d44d77beca070a3f4cc822",
       "version_major": 2,
       "version_minor": 0
      },
      "text/plain": [
       "Contours:   0%|          | 0/25 [00:00<?, ?it/s]"
      ]
     },
     "metadata": {},
     "output_type": "display_data"
    },
    {
     "data": {
      "application/vnd.jupyter.widget-view+json": {
       "model_id": "a1f43da03fb443588f525c7d04ea3cc8",
       "version_major": 2,
       "version_minor": 0
      },
      "text/plain": [
       "Contours:   0%|          | 0/6 [00:00<?, ?it/s]"
      ]
     },
     "metadata": {},
     "output_type": "display_data"
    },
    {
     "data": {
      "application/vnd.jupyter.widget-view+json": {
       "model_id": "e85d84f7e132494592f57749c1391485",
       "version_major": 2,
       "version_minor": 0
      },
      "text/plain": [
       "SRs:   0%|          | 0/7 [00:00<?, ?it/s]"
      ]
     },
     "metadata": {},
     "output_type": "display_data"
    },
    {
     "data": {
      "application/vnd.jupyter.widget-view+json": {
       "model_id": "7e53ff96966545a5ac9c84491e344b9b",
       "version_major": 2,
       "version_minor": 0
      },
      "text/plain": [
       "Contours:   0%|          | 0/38 [00:00<?, ?it/s]"
      ]
     },
     "metadata": {},
     "output_type": "display_data"
    },
    {
     "data": {
      "application/vnd.jupyter.widget-view+json": {
       "model_id": "8035c3eb078c4463bc84073fc4d29ae9",
       "version_major": 2,
       "version_minor": 0
      },
      "text/plain": [
       "Contours:   0%|          | 0/12 [00:00<?, ?it/s]"
      ]
     },
     "metadata": {},
     "output_type": "display_data"
    },
    {
     "data": {
      "application/vnd.jupyter.widget-view+json": {
       "model_id": "76acfd685a434504a77e64cf820e714d",
       "version_major": 2,
       "version_minor": 0
      },
      "text/plain": [
       "SRs:   0%|          | 0/4 [00:00<?, ?it/s]"
      ]
     },
     "metadata": {},
     "output_type": "display_data"
    },
    {
     "data": {
      "application/vnd.jupyter.widget-view+json": {
       "model_id": "666ecda2b8854193a3315853c9974706",
       "version_major": 2,
       "version_minor": 0
      },
      "text/plain": [
       "Contours:   0%|          | 0/10 [00:00<?, ?it/s]"
      ]
     },
     "metadata": {},
     "output_type": "display_data"
    },
    {
     "data": {
      "application/vnd.jupyter.widget-view+json": {
       "model_id": "5ccf4713997d471d98acf28289d6f518",
       "version_major": 2,
       "version_minor": 0
      },
      "text/plain": [
       "Contours:   0%|          | 0/6 [00:00<?, ?it/s]"
      ]
     },
     "metadata": {},
     "output_type": "display_data"
    },
    {
     "data": {
      "application/vnd.jupyter.widget-view+json": {
       "model_id": "2d16ad582c6740f6889a425660d683e4",
       "version_major": 2,
       "version_minor": 0
      },
      "text/plain": [
       "SRs:   0%|          | 0/2 [00:00<?, ?it/s]"
      ]
     },
     "metadata": {},
     "output_type": "display_data"
    },
    {
     "data": {
      "application/vnd.jupyter.widget-view+json": {
       "model_id": "058e18e3ac1e49f4a73d95213667a78a",
       "version_major": 2,
       "version_minor": 0
      },
      "text/plain": [
       "Contours:   0%|          | 0/3 [00:00<?, ?it/s]"
      ]
     },
     "metadata": {},
     "output_type": "display_data"
    },
    {
     "data": {
      "application/vnd.jupyter.widget-view+json": {
       "model_id": "60fce538722748d5968f3c341bc74cd5",
       "version_major": 2,
       "version_minor": 0
      },
      "text/plain": [
       "SRs:   0%|          | 0/2 [00:00<?, ?it/s]"
      ]
     },
     "metadata": {},
     "output_type": "display_data"
    },
    {
     "data": {
      "application/vnd.jupyter.widget-view+json": {
       "model_id": "3952f2d73aac40639807d74be16dadca",
       "version_major": 2,
       "version_minor": 0
      },
      "text/plain": [
       "SRs:   0%|          | 0/4 [00:00<?, ?it/s]"
      ]
     },
     "metadata": {},
     "output_type": "display_data"
    },
    {
     "data": {
      "application/vnd.jupyter.widget-view+json": {
       "model_id": "41fddceb82584f2695827dd44b119736",
       "version_major": 2,
       "version_minor": 0
      },
      "text/plain": [
       "Contours:   0%|          | 0/49 [00:00<?, ?it/s]"
      ]
     },
     "metadata": {},
     "output_type": "display_data"
    },
    {
     "data": {
      "application/vnd.jupyter.widget-view+json": {
       "model_id": "a8f90c8a2a41468383596f9e2c27ed72",
       "version_major": 2,
       "version_minor": 0
      },
      "text/plain": [
       "SRs:   0%|          | 0/4 [00:00<?, ?it/s]"
      ]
     },
     "metadata": {},
     "output_type": "display_data"
    },
    {
     "data": {
      "application/vnd.jupyter.widget-view+json": {
       "model_id": "c4cba2a08b8c4fa7933c5f7b35714e63",
       "version_major": 2,
       "version_minor": 0
      },
      "text/plain": [
       "Contours:   0%|          | 0/15 [00:00<?, ?it/s]"
      ]
     },
     "metadata": {},
     "output_type": "display_data"
    },
    {
     "data": {
      "application/vnd.jupyter.widget-view+json": {
       "model_id": "496d3bbe9a434cb6bfea413aaa462e0a",
       "version_major": 2,
       "version_minor": 0
      },
      "text/plain": [
       "SRs:   0%|          | 0/2 [00:00<?, ?it/s]"
      ]
     },
     "metadata": {},
     "output_type": "display_data"
    },
    {
     "data": {
      "application/vnd.jupyter.widget-view+json": {
       "model_id": "4aa825ae8fbe46aa8f436ce0e4480c4d",
       "version_major": 2,
       "version_minor": 0
      },
      "text/plain": [
       "Contours:   0%|          | 0/1 [00:00<?, ?it/s]"
      ]
     },
     "metadata": {},
     "output_type": "display_data"
    },
    {
     "data": {
      "application/vnd.jupyter.widget-view+json": {
       "model_id": "d854bf1549924aabaa748ff7f9c0e656",
       "version_major": 2,
       "version_minor": 0
      },
      "text/plain": [
       "SRs:   0%|          | 0/7 [00:00<?, ?it/s]"
      ]
     },
     "metadata": {},
     "output_type": "display_data"
    },
    {
     "data": {
      "application/vnd.jupyter.widget-view+json": {
       "model_id": "62b0240bb5384c4a85e350eb8480e8c9",
       "version_major": 2,
       "version_minor": 0
      },
      "text/plain": [
       "Contours:   0%|          | 0/1 [00:00<?, ?it/s]"
      ]
     },
     "metadata": {},
     "output_type": "display_data"
    },
    {
     "data": {
      "application/vnd.jupyter.widget-view+json": {
       "model_id": "7841eb21a2294f6e98c4d6b33beaabc3",
       "version_major": 2,
       "version_minor": 0
      },
      "text/plain": [
       "Contours:   0%|          | 0/9 [00:00<?, ?it/s]"
      ]
     },
     "metadata": {},
     "output_type": "display_data"
    },
    {
     "data": {
      "application/vnd.jupyter.widget-view+json": {
       "model_id": "9b7fdd8ad1054f53b6bdfbe64c2d6ec0",
       "version_major": 2,
       "version_minor": 0
      },
      "text/plain": [
       "Contours:   0%|          | 0/3 [00:00<?, ?it/s]"
      ]
     },
     "metadata": {},
     "output_type": "display_data"
    },
    {
     "data": {
      "application/vnd.jupyter.widget-view+json": {
       "model_id": "bfac3a03c56e41039be3e8a620386606",
       "version_major": 2,
       "version_minor": 0
      },
      "text/plain": [
       "SRs:   0%|          | 0/21 [00:00<?, ?it/s]"
      ]
     },
     "metadata": {},
     "output_type": "display_data"
    },
    {
     "data": {
      "application/vnd.jupyter.widget-view+json": {
       "model_id": "386d368c06764d7b9a0b36cf5baa832c",
       "version_major": 2,
       "version_minor": 0
      },
      "text/plain": [
       "Contours:   0%|          | 0/1 [00:00<?, ?it/s]"
      ]
     },
     "metadata": {},
     "output_type": "display_data"
    },
    {
     "data": {
      "application/vnd.jupyter.widget-view+json": {
       "model_id": "1c644062c4e94bb4b0aa9c58d55d001e",
       "version_major": 2,
       "version_minor": 0
      },
      "text/plain": [
       "Contours:   0%|          | 0/4 [00:00<?, ?it/s]"
      ]
     },
     "metadata": {},
     "output_type": "display_data"
    },
    {
     "data": {
      "application/vnd.jupyter.widget-view+json": {
       "model_id": "57bae02396684addbc87ad34b76bb84a",
       "version_major": 2,
       "version_minor": 0
      },
      "text/plain": [
       "Contours:   0%|          | 0/6 [00:00<?, ?it/s]"
      ]
     },
     "metadata": {},
     "output_type": "display_data"
    },
    {
     "data": {
      "application/vnd.jupyter.widget-view+json": {
       "model_id": "75314f12507b497c9c405b1dad21fcf6",
       "version_major": 2,
       "version_minor": 0
      },
      "text/plain": [
       "SRs:   0%|          | 0/6 [00:00<?, ?it/s]"
      ]
     },
     "metadata": {},
     "output_type": "display_data"
    },
    {
     "data": {
      "application/vnd.jupyter.widget-view+json": {
       "model_id": "f4f0888e4d72485da7e2ea28035d7c82",
       "version_major": 2,
       "version_minor": 0
      },
      "text/plain": [
       "Contours:   0%|          | 0/5 [00:00<?, ?it/s]"
      ]
     },
     "metadata": {},
     "output_type": "display_data"
    },
    {
     "data": {
      "application/vnd.jupyter.widget-view+json": {
       "model_id": "786fb9651bdb46809c354ab3c00fed56",
       "version_major": 2,
       "version_minor": 0
      },
      "text/plain": [
       "SRs:   0%|          | 0/5 [00:00<?, ?it/s]"
      ]
     },
     "metadata": {},
     "output_type": "display_data"
    },
    {
     "data": {
      "application/vnd.jupyter.widget-view+json": {
       "model_id": "ad9841a8d4454fda97e87fc911121260",
       "version_major": 2,
       "version_minor": 0
      },
      "text/plain": [
       "Contours:   0%|          | 0/2 [00:00<?, ?it/s]"
      ]
     },
     "metadata": {},
     "output_type": "display_data"
    },
    {
     "data": {
      "application/vnd.jupyter.widget-view+json": {
       "model_id": "491811589a9849f1b7e1acd4fe8abf1d",
       "version_major": 2,
       "version_minor": 0
      },
      "text/plain": [
       "Contours:   0%|          | 0/12 [00:00<?, ?it/s]"
      ]
     },
     "metadata": {},
     "output_type": "display_data"
    },
    {
     "data": {
      "application/vnd.jupyter.widget-view+json": {
       "model_id": "f2e63b3b37c04254a1e7c4e3daf336ee",
       "version_major": 2,
       "version_minor": 0
      },
      "text/plain": [
       "Contours:   0%|          | 0/29 [00:00<?, ?it/s]"
      ]
     },
     "metadata": {},
     "output_type": "display_data"
    },
    {
     "data": {
      "application/vnd.jupyter.widget-view+json": {
       "model_id": "ebd2d181452f4d22b122d39b6e71d0c9",
       "version_major": 2,
       "version_minor": 0
      },
      "text/plain": [
       "SRs:   0%|          | 0/8 [00:00<?, ?it/s]"
      ]
     },
     "metadata": {},
     "output_type": "display_data"
    },
    {
     "data": {
      "application/vnd.jupyter.widget-view+json": {
       "model_id": "146c0e15ba904e56b7870bc06192dae0",
       "version_major": 2,
       "version_minor": 0
      },
      "text/plain": [
       "Contours:   0%|          | 0/2 [00:00<?, ?it/s]"
      ]
     },
     "metadata": {},
     "output_type": "display_data"
    },
    {
     "data": {
      "application/vnd.jupyter.widget-view+json": {
       "model_id": "e04c07be6fe245198c2728eb15c32d8c",
       "version_major": 2,
       "version_minor": 0
      },
      "text/plain": [
       "Contours:   0%|          | 0/15 [00:00<?, ?it/s]"
      ]
     },
     "metadata": {},
     "output_type": "display_data"
    },
    {
     "data": {
      "application/vnd.jupyter.widget-view+json": {
       "model_id": "64ab3dd2fb22488fa40af2d782e6132e",
       "version_major": 2,
       "version_minor": 0
      },
      "text/plain": [
       "SRs:   0%|          | 0/4 [00:00<?, ?it/s]"
      ]
     },
     "metadata": {},
     "output_type": "display_data"
    },
    {
     "data": {
      "application/vnd.jupyter.widget-view+json": {
       "model_id": "0d21f1ea6c29433092c061d5998ef544",
       "version_major": 2,
       "version_minor": 0
      },
      "text/plain": [
       "Contours:   0%|          | 0/1 [00:00<?, ?it/s]"
      ]
     },
     "metadata": {},
     "output_type": "display_data"
    },
    {
     "data": {
      "application/vnd.jupyter.widget-view+json": {
       "model_id": "60b4a7ce22e34cd2899240c6796d2cc3",
       "version_major": 2,
       "version_minor": 0
      },
      "text/plain": [
       "Contours:   0%|          | 0/7 [00:00<?, ?it/s]"
      ]
     },
     "metadata": {},
     "output_type": "display_data"
    },
    {
     "data": {
      "application/vnd.jupyter.widget-view+json": {
       "model_id": "11b8b605cc5e4f0faa81a736077885b5",
       "version_major": 2,
       "version_minor": 0
      },
      "text/plain": [
       "Contours:   0%|          | 0/3 [00:00<?, ?it/s]"
      ]
     },
     "metadata": {},
     "output_type": "display_data"
    },
    {
     "data": {
      "application/vnd.jupyter.widget-view+json": {
       "model_id": "15828f04e04a48339fef3d4a57b939a1",
       "version_major": 2,
       "version_minor": 0
      },
      "text/plain": [
       "SRs:   0%|          | 0/5 [00:00<?, ?it/s]"
      ]
     },
     "metadata": {},
     "output_type": "display_data"
    },
    {
     "data": {
      "application/vnd.jupyter.widget-view+json": {
       "model_id": "43d74d3d439541c5982d596121003dc6",
       "version_major": 2,
       "version_minor": 0
      },
      "text/plain": [
       "Contours:   0%|          | 0/1 [00:00<?, ?it/s]"
      ]
     },
     "metadata": {},
     "output_type": "display_data"
    },
    {
     "data": {
      "application/vnd.jupyter.widget-view+json": {
       "model_id": "55c61c1c717f4c9bbdc8f01c4a67bf69",
       "version_major": 2,
       "version_minor": 0
      },
      "text/plain": [
       "Contours:   0%|          | 0/3 [00:00<?, ?it/s]"
      ]
     },
     "metadata": {},
     "output_type": "display_data"
    },
    {
     "data": {
      "application/vnd.jupyter.widget-view+json": {
       "model_id": "04957e35cdf948d1b3263b49534ca800",
       "version_major": 2,
       "version_minor": 0
      },
      "text/plain": [
       "SRs:   0%|          | 0/4 [00:00<?, ?it/s]"
      ]
     },
     "metadata": {},
     "output_type": "display_data"
    },
    {
     "data": {
      "application/vnd.jupyter.widget-view+json": {
       "model_id": "969900ba66da46f98475d6c3d0f55017",
       "version_major": 2,
       "version_minor": 0
      },
      "text/plain": [
       "Contours:   0%|          | 0/20 [00:00<?, ?it/s]"
      ]
     },
     "metadata": {},
     "output_type": "display_data"
    },
    {
     "data": {
      "application/vnd.jupyter.widget-view+json": {
       "model_id": "baf20cf89d4b49aebd084a7c8575594a",
       "version_major": 2,
       "version_minor": 0
      },
      "text/plain": [
       "SRs:   0%|          | 0/1 [00:00<?, ?it/s]"
      ]
     },
     "metadata": {},
     "output_type": "display_data"
    },
    {
     "data": {
      "application/vnd.jupyter.widget-view+json": {
       "model_id": "203a4b6b91ae426abdf950e98b54f314",
       "version_major": 2,
       "version_minor": 0
      },
      "text/plain": [
       "Contours:   0%|          | 0/2 [00:00<?, ?it/s]"
      ]
     },
     "metadata": {},
     "output_type": "display_data"
    },
    {
     "data": {
      "application/vnd.jupyter.widget-view+json": {
       "model_id": "49ff2537c9324db3bedfd018c5fbd161",
       "version_major": 2,
       "version_minor": 0
      },
      "text/plain": [
       "SRs:   0%|          | 0/3 [00:00<?, ?it/s]"
      ]
     },
     "metadata": {},
     "output_type": "display_data"
    },
    {
     "data": {
      "application/vnd.jupyter.widget-view+json": {
       "model_id": "3b7f3f015e914dc0ba6cb0b606aa45d3",
       "version_major": 2,
       "version_minor": 0
      },
      "text/plain": [
       "Contours:   0%|          | 0/1 [00:00<?, ?it/s]"
      ]
     },
     "metadata": {},
     "output_type": "display_data"
    },
    {
     "data": {
      "application/vnd.jupyter.widget-view+json": {
       "model_id": "0939e1b212bf4438acb4be5eaa655af3",
       "version_major": 2,
       "version_minor": 0
      },
      "text/plain": [
       "Contours:   0%|          | 0/15 [00:00<?, ?it/s]"
      ]
     },
     "metadata": {},
     "output_type": "display_data"
    },
    {
     "data": {
      "application/vnd.jupyter.widget-view+json": {
       "model_id": "9ebf5a4e63914eb69245c7a7b630dc06",
       "version_major": 2,
       "version_minor": 0
      },
      "text/plain": [
       "SRs:   0%|          | 0/3 [00:00<?, ?it/s]"
      ]
     },
     "metadata": {},
     "output_type": "display_data"
    },
    {
     "data": {
      "application/vnd.jupyter.widget-view+json": {
       "model_id": "561aabe43d5149438fb21bc335d0582f",
       "version_major": 2,
       "version_minor": 0
      },
      "text/plain": [
       "Contours:   0%|          | 0/38 [00:00<?, ?it/s]"
      ]
     },
     "metadata": {},
     "output_type": "display_data"
    },
    {
     "data": {
      "application/vnd.jupyter.widget-view+json": {
       "model_id": "ba23fb73c8f941c0875937717deb3ceb",
       "version_major": 2,
       "version_minor": 0
      },
      "text/plain": [
       "SRs:   0%|          | 0/2 [00:00<?, ?it/s]"
      ]
     },
     "metadata": {},
     "output_type": "display_data"
    },
    {
     "data": {
      "application/vnd.jupyter.widget-view+json": {
       "model_id": "d25da62d60d74c2babdbd41678abea4c",
       "version_major": 2,
       "version_minor": 0
      },
      "text/plain": [
       "Contours:   0%|          | 0/1 [00:00<?, ?it/s]"
      ]
     },
     "metadata": {},
     "output_type": "display_data"
    }
   ],
   "source": [
    "tracks_new = []\n",
    "sr_geoms = []\n",
    "\n",
    "# kde for each sr\n",
    "offset = 1000\n",
    "min_sample_n = 50\n",
    "cell_size = 75\n",
    "bandwidth = 100\n",
    "kde_percentile = 0.95\n",
    "kde_reduction = True\n",
    "\n",
    "for gdf in log_progress(tracks):\n",
    "    track_new, sr_geom = cluster_track(gdf, min_sample_n, offset, cell_size, bandwidth, kde_percentile, kde_reduction)\n",
    "    tracks_new.append(track_new)\n",
    "    sr_geoms.append(sr_geom)\n",
    "tracks = tracks_new"
   ]
  }
 ],
 "metadata": {
  "kernelspec": {
   "display_name": "Python 3",
   "language": "python",
   "name": "python3"
  },
  "language_info": {
   "codemirror_mode": {
    "name": "ipython",
    "version": 3
   },
   "file_extension": ".py",
   "mimetype": "text/x-python",
   "name": "python",
   "nbconvert_exporter": "python",
   "pygments_lexer": "ipython3",
   "version": "3.11.9"
  }
 },
 "nbformat": 4,
 "nbformat_minor": 2
}
